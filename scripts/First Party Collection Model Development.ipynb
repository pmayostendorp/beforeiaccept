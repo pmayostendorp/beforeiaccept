{
 "cells": [
  {
   "cell_type": "markdown",
   "metadata": {},
   "source": [
    "**Steps**\n",
    "- bring in target from binary_categories table for data encryption practices ONLY FOR sites in OPP-115\n",
    "- bring in features from segment table ONLY FOR sites in OPP-115\n",
    "- check for length!\n",
    "- set up text processing functions\n",
    "- set up BOW >> TFIDF >> Naive Bayes pipeline\n",
    "- train-test-split data\n",
    "- fit, predict, check classification\n",
    "- wash, rinse, repeat\n",
    "- pickle out trained model"
   ]
  },
  {
   "cell_type": "code",
   "execution_count": 1,
   "metadata": {
    "collapsed": true
   },
   "outputs": [],
   "source": [
    "#Basic imports\n",
    "import pandas as pd\n",
    "import numpy as np\n",
    "import nltk\n",
    "import string\n",
    "from nltk.corpus import stopwords\n",
    "from nltk.stem.snowball import *\n",
    "import re\n",
    "from sklearn.feature_extraction.text import CountVectorizer\n",
    "from sklearn.feature_extraction.text import TfidfTransformer\n",
    "from sklearn.model_selection import train_test_split\n",
    "from sklearn.pipeline import Pipeline\n",
    "from sklearn.metrics import classification_report, confusion_matrix"
   ]
  },
  {
   "cell_type": "code",
   "execution_count": 2,
   "metadata": {},
   "outputs": [
    {
     "data": {
      "application/javascript": [
       "if (!(\"Notification\" in window)) {\n",
       "    alert(\"This browser does not support desktop notifications, so the %%notify magic will not work.\");\n",
       "} else if (Notification.permission !== 'granted' && Notification.permission !== 'denied') {\n",
       "    Notification.requestPermission(function (permission) {\n",
       "        if(!('permission' in Notification)) {\n",
       "            Notification.permission = permission;\n",
       "        }\n",
       "    })\n",
       "}\n"
      ],
      "text/plain": [
       "<IPython.core.display.Javascript object>"
      ]
     },
     "metadata": {},
     "output_type": "display_data"
    }
   ],
   "source": [
    "#Notifications\n",
    "import jupyternotify\n",
    "ip = get_ipython()\n",
    "ip.register_magics(jupyternotify.JupyterNotifyMagics)"
   ]
  },
  {
   "cell_type": "code",
   "execution_count": 3,
   "metadata": {
    "collapsed": true
   },
   "outputs": [],
   "source": [
    "#Database imports and credentials\n",
    "import psycopg2"
   ]
  },
  {
   "cell_type": "code",
   "execution_count": 4,
   "metadata": {
    "collapsed": true
   },
   "outputs": [],
   "source": [
    "#Establish database connection\n",
    "dbname = 'beforeiagree_db'\n",
    "username = 'peterostendorp'\n",
    "\n",
    "#Create engine\n",
    "con = psycopg2.connect(database = dbname, user = username)"
   ]
  },
  {
   "cell_type": "markdown",
   "metadata": {},
   "source": [
    "## Segment-level model"
   ]
  },
  {
   "cell_type": "code",
   "execution_count": 5,
   "metadata": {
    "collapsed": true
   },
   "outputs": [],
   "source": [
    "sql = \"\"\"\n",
    "SELECT \"Policy UID\", segment_id, first_party_collection_use FROM binary_segment_categories\n",
    "WHERE binary_segment_categories.\"Policy UID\" IN\n",
    "(SELECT \"Policy UID\" FROM sites\n",
    "WHERE sites.\"In 115 Set?\" IS TRUE);\n",
    "\"\"\"\n",
    "\n",
    "targets_segments = pd.read_sql_query(sql,con)"
   ]
  },
  {
   "cell_type": "code",
   "execution_count": 6,
   "metadata": {},
   "outputs": [
    {
     "name": "stdout",
     "output_type": "stream",
     "text": [
      "<class 'pandas.core.frame.DataFrame'>\n",
      "RangeIndex: 6469 entries, 0 to 6468\n",
      "Data columns (total 3 columns):\n",
      "Policy UID                    6469 non-null int64\n",
      "segment_id                    6469 non-null int64\n",
      "first_party_collection_use    6469 non-null int64\n",
      "dtypes: int64(3)\n",
      "memory usage: 151.7 KB\n"
     ]
    }
   ],
   "source": [
    "targets_segments.info()"
   ]
  },
  {
   "cell_type": "code",
   "execution_count": 7,
   "metadata": {},
   "outputs": [
    {
     "data": {
      "text/plain": [
       "0    4448\n",
       "1    2021\n",
       "Name: first_party_collection_use, dtype: int64"
      ]
     },
     "execution_count": 7,
     "metadata": {},
     "output_type": "execute_result"
    }
   ],
   "source": [
    "targets_segments['first_party_collection_use'].value_counts()"
   ]
  },
  {
   "cell_type": "code",
   "execution_count": 8,
   "metadata": {},
   "outputs": [
    {
     "data": {
      "text/plain": [
       "0.31241304683876953"
      ]
     },
     "execution_count": 8,
     "metadata": {},
     "output_type": "execute_result"
    }
   ],
   "source": [
    "targets_segments['first_party_collection_use'].value_counts()[1]/targets_segments['first_party_collection_use'].count()"
   ]
  },
  {
   "cell_type": "markdown",
   "metadata": {},
   "source": [
    "Note: this occurs in about 1/3 of segments. It's pretty common language in these docs."
   ]
  },
  {
   "cell_type": "code",
   "execution_count": 9,
   "metadata": {},
   "outputs": [
    {
     "data": {
      "text/plain": [
       "4      9\n",
       "10     9\n",
       "7      8\n",
       "9      7\n",
       "15     7\n",
       "1      6\n",
       "3      6\n",
       "12     6\n",
       "17     5\n",
       "2      4\n",
       "5      4\n",
       "8      4\n",
       "14     4\n",
       "18     3\n",
       "16     3\n",
       "0      3\n",
       "20     2\n",
       "26     2\n",
       "13     2\n",
       "11     2\n",
       "19     2\n",
       "48     2\n",
       "54     1\n",
       "104    1\n",
       "225    1\n",
       "66     1\n",
       "65     1\n",
       "62     1\n",
       "6      1\n",
       "32     1\n",
       "40     1\n",
       "31     1\n",
       "30     1\n",
       "23     1\n",
       "21     1\n",
       "119    1\n",
       "120    1\n",
       "Name: first_party_collection_use, dtype: int64"
      ]
     },
     "execution_count": 9,
     "metadata": {},
     "output_type": "execute_result"
    }
   ],
   "source": [
    "targets_segments.groupby('Policy UID').sum()['first_party_collection_use'].value_counts()"
   ]
  },
  {
   "cell_type": "markdown",
   "metadata": {},
   "source": [
    "Almost **every** document in the corpus mentions this stuff somewhere."
   ]
  },
  {
   "cell_type": "code",
   "execution_count": 10,
   "metadata": {
    "collapsed": true
   },
   "outputs": [],
   "source": [
    "#Get segments associated with policies in the OPP-115 corpus\n",
    "sql = \"\"\"\n",
    "SELECT * FROM segments\n",
    "WHERE \"Policy UID\" IN \n",
    "(SELECT \"Policy UID\" FROM sites\n",
    "WHERE \"In 115 Set?\" = TRUE)\n",
    "\"\"\"\n",
    "\n",
    "segments = pd.read_sql_query(sql,con)"
   ]
  },
  {
   "cell_type": "code",
   "execution_count": 14,
   "metadata": {
    "scrolled": true
   },
   "outputs": [
    {
     "name": "stdout",
     "output_type": "stream",
     "text": [
      "(6469, 3)\n"
     ]
    },
    {
     "data": {
      "text/html": [
       "<div>\n",
       "<style>\n",
       "    .dataframe thead tr:only-child th {\n",
       "        text-align: right;\n",
       "    }\n",
       "\n",
       "    .dataframe thead th {\n",
       "        text-align: left;\n",
       "    }\n",
       "\n",
       "    .dataframe tbody tr th {\n",
       "        vertical-align: top;\n",
       "    }\n",
       "</style>\n",
       "<table border=\"1\" class=\"dataframe\">\n",
       "  <thead>\n",
       "    <tr style=\"text-align: right;\">\n",
       "      <th></th>\n",
       "      <th>Policy UID</th>\n",
       "      <th>segment_id</th>\n",
       "      <th>segments</th>\n",
       "    </tr>\n",
       "  </thead>\n",
       "  <tbody>\n",
       "    <tr>\n",
       "      <th>0</th>\n",
       "      <td>20</td>\n",
       "      <td>0</td>\n",
       "      <td>&lt;strong&gt; Privacy Policy &lt;/strong&gt; &lt;br&gt; &lt;br&gt; &lt;s...</td>\n",
       "    </tr>\n",
       "    <tr>\n",
       "      <th>1</th>\n",
       "      <td>20</td>\n",
       "      <td>1</td>\n",
       "      <td>This privacy policy does not apply to Sites ma...</td>\n",
       "    </tr>\n",
       "    <tr>\n",
       "      <th>2</th>\n",
       "      <td>20</td>\n",
       "      <td>2</td>\n",
       "      <td>By visiting our Sites, you are accepting the p...</td>\n",
       "    </tr>\n",
       "    <tr>\n",
       "      <th>3</th>\n",
       "      <td>20</td>\n",
       "      <td>3</td>\n",
       "      <td>&lt;strong&gt; What Information Is Collected? &lt;/stro...</td>\n",
       "    </tr>\n",
       "    <tr>\n",
       "      <th>4</th>\n",
       "      <td>20</td>\n",
       "      <td>4</td>\n",
       "      <td>&lt;strong&gt; Personally Identifiable Information &lt;...</td>\n",
       "    </tr>\n",
       "  </tbody>\n",
       "</table>\n",
       "</div>"
      ],
      "text/plain": [
       "   Policy UID  segment_id                                           segments\n",
       "0          20           0  <strong> Privacy Policy </strong> <br> <br> <s...\n",
       "1          20           1  This privacy policy does not apply to Sites ma...\n",
       "2          20           2  By visiting our Sites, you are accepting the p...\n",
       "3          20           3  <strong> What Information Is Collected? </stro...\n",
       "4          20           4  <strong> Personally Identifiable Information <..."
      ]
     },
     "execution_count": 14,
     "metadata": {},
     "output_type": "execute_result"
    }
   ],
   "source": [
    "print(segments.shape)\n",
    "segments.head()"
   ]
  },
  {
   "cell_type": "markdown",
   "metadata": {},
   "source": [
    "### Feature engineering for segment pre-processing"
   ]
  },
  {
   "cell_type": "code",
   "execution_count": 11,
   "metadata": {
    "collapsed": true
   },
   "outputs": [],
   "source": [
    "#Initial text-processing function for segments... not much needed here.\n",
    "#Set up our initial text cleaning function\n",
    "def text_process_policy(doc):\n",
    "    \"\"\"\n",
    "    1. remove HTML tags\n",
    "    2. remove punctuation\n",
    "    3. remove stopwords\n",
    "    4. stemming\n",
    "    5. remove '|||' inserted into corpus documents only\n",
    "    \n",
    "    Returns a string of the processed doc.\n",
    "    \"\"\"\n",
    "    sn = SnowballStemmer(language='english')\n",
    "    \n",
    "    lst = [word for word in doc.split() if re.search(r'\\<.*\\>',word) is None]\n",
    "    lst = ' '.join(lst)\n",
    "    lst = [char for char in lst if char not in string.punctuation]\n",
    "    lst = ''.join(lst)    \n",
    "    lst = [word.lower() for word in lst.split() if word.lower() not in stopwords.words('english')]\n",
    "    lst = [sn.stem(word) for word in lst]\n",
    "    lst = [word for word in lst if word.replace('|||','')]\n",
    "    return ' '.join(lst)"
   ]
  },
  {
   "cell_type": "code",
   "execution_count": 12,
   "metadata": {
    "collapsed": true
   },
   "outputs": [],
   "source": [
    "#Process the segments here\n",
    "segments['segments'] = segments['segments'].apply(text_process_policy)"
   ]
  },
  {
   "cell_type": "code",
   "execution_count": 13,
   "metadata": {},
   "outputs": [
    {
     "name": "stdout",
     "output_type": "stream",
     "text": [
      "privaci statement commit protect privaci communiti coffe compani respect right privaci commit protect site give opportun provid name address email relev inform use give person shop experi make order reorder easier sell trade custom inform other use mail list\n",
      "access chang remov protect health inform pleas see hipaa section\n",
      "ii enter contest sweepstak sponsor third parti case inform provid via contest sweepstak may share us third parti use discret includ direct market contest sweepstak ask time entri whether would like person inform share sponsor case honor select contest give option event want inform share enter contest privaci polici third parti compani appli use disclosur inform collect disclos third parti compani\n",
      "inform collect connect onlin forum communiti use provid interact experi use inform facilit particip onlin forum communiti time time offer product program servic\n",
      "choos access visit andor use third parti social network servic may integr servic may receiv person identifi inform inform comput mobil devic made avail servic includ inform contact servic exampl social network servic allow push content servic contact pull inform contact connect servic social network servic also facilit registr servic enhanc person experi servic decis use socialnetwork servic connect servic voluntari howev make sure comfort inform third parti social network servic may make avail servic visit servic privaci polici andor modifi privaci set direct servic reserv right use transfer assign sell share provid access person identifi inform inform comput mobil devic receiv thirdparti social network servic way describ agreement inform\n",
      "protect safeti user other onlin servic\n",
      "court anoth busi interest parti event bankruptci proceed case inform would among mani asset share transfer\n",
      "occasion may associ contract third parti order better serv exampl fulfil onlin order provid request inform email updat collect voluntarili provid feedback site either follow privaci polici display except forego except author govern law enforc activ librari provid person inform outsid organ without first obtain permiss\n",
      "1 inform collect kinja third parti may collect inform user sever differ point kinja\n",
      "use person inform may use person inform\n"
     ]
    }
   ],
   "source": [
    "#Print a few of them at random\n",
    "for i in range(0,10):\n",
    "    print(segments['segments'].iloc[np.random.randint(0,6000)])"
   ]
  },
  {
   "cell_type": "code",
   "execution_count": 13,
   "metadata": {
    "collapsed": true
   },
   "outputs": [],
   "source": [
    "from nltk.probability import FreqDist"
   ]
  },
  {
   "cell_type": "code",
   "execution_count": 14,
   "metadata": {
    "collapsed": true,
    "scrolled": false
   },
   "outputs": [],
   "source": [
    "first_party_collection_segments = segments.merge(targets_segments,on=['Policy UID','segment_id'])\n",
    "words = ' '.join(list(first_party_collection_segments[first_party_collection_segments['first_party_collection_use']==1]['segments'])).split()"
   ]
  },
  {
   "cell_type": "code",
   "execution_count": 15,
   "metadata": {
    "collapsed": true
   },
   "outputs": [],
   "source": [
    "f = FreqDist(words)\n",
    "df2 = pd.DataFrame(f.most_common(100),columns=['Word','Frequency']).set_index('Word')"
   ]
  },
  {
   "cell_type": "code",
   "execution_count": 16,
   "metadata": {},
   "outputs": [
    {
     "data": {
      "text/plain": [
       "<matplotlib.text.Text at 0x113400630>"
      ]
     },
     "execution_count": 16,
     "metadata": {},
     "output_type": "execute_result"
    },
    {
     "data": {
      "image/png": "[encoded data removed]",
      "text/plain": [
       "<matplotlib.figure.Figure at 0x113377d30>"
      ]
     },
     "metadata": {},
     "output_type": "display_data"
    }
   ],
   "source": [
    "#Word frequency stuff\n",
    "import matplotlib.pyplot as plt\n",
    "import seaborn as sns\n",
    "%matplotlib inline\n",
    "n_words = 50\n",
    "sns.set_style('whitegrid')\n",
    "df2.iloc[:n_words].plot.bar(figsize=(16,6),color='red')\n",
    "plt.title('Top %s Privacy Policy Terms in First Party Data Collection Clauses' % n_words)\n",
    "plt.xlabel('')"
   ]
  },
  {
   "cell_type": "code",
   "execution_count": 18,
   "metadata": {},
   "outputs": [],
   "source": [
    "#Split data using 30%/70% split, random seed is my birthday\n",
    "segments_train, segments_test, targets_train, targets_test = train_test_split(first_party_collection_segments['segments'], \n",
    "    first_party_collection_segments['first_party_collection_use'], test_size=0.3, random_state=84)"
   ]
  },
  {
   "cell_type": "markdown",
   "metadata": {},
   "source": [
    "### Naive Bayes approach"
   ]
  },
  {
   "cell_type": "code",
   "execution_count": 19,
   "metadata": {
    "collapsed": true
   },
   "outputs": [],
   "source": [
    "from sklearn.naive_bayes import MultinomialNB\n",
    "from sklearn.metrics import roc_curve, auc\n",
    "from sklearn.model_selection import KFold, cross_val_score"
   ]
  },
  {
   "cell_type": "code",
   "execution_count": 20,
   "metadata": {
    "collapsed": true
   },
   "outputs": [],
   "source": [
    "#Set up an sklearn pipeline that processes policies, transforms them into a BOW model, applies TFIDF metric,\n",
    "#then develops a Naive Bayes classifier.\n",
    "first_party_collection_NB_segment = Pipeline([\n",
    "    ('bow',CountVectorizer(ngram_range=(2,2))),\n",
    "    ('tfidf',TfidfTransformer()),\n",
    "    ('classifier',MultinomialNB())\n",
    "])"
   ]
  },
  {
   "cell_type": "code",
   "execution_count": 21,
   "metadata": {
    "collapsed": true
   },
   "outputs": [],
   "source": [
    "#Build out ROC curve for variety of n_classifiers\n",
    "first_party_collection_NB_segment.fit(segments_train, targets_train)\n",
    "targets_prob = first_party_collection_NB_segment.predict_proba(segments_test)\n",
    "preds = first_party_collection_NB_segment.predict(segments_test)\n",
    "fpr, tpr, thresholds = roc_curve(targets_test, targets_prob[:,1])\n",
    "roc_auc = auc(fpr,tpr)"
   ]
  },
  {
   "cell_type": "code",
   "execution_count": 22,
   "metadata": {},
   "outputs": [
    {
     "data": {
      "text/plain": [
       "<matplotlib.legend.Legend at 0x11418c470>"
      ]
     },
     "execution_count": 22,
     "metadata": {},
     "output_type": "execute_result"
    },
    {
     "data": {
      "image/png": "[encoded data removed]",
      "text/plain": [
       "<matplotlib.figure.Figure at 0x113377dd8>"
      ]
     },
     "metadata": {},
     "output_type": "display_data"
    }
   ],
   "source": [
    "#Plotting out the ROC curve\n",
    "import matplotlib.pyplot as plt\n",
    "%matplotlib inline\n",
    "\n",
    "plt.figure(figsize=(8,6))\n",
    "plt.plot(fpr, tpr, color='navy', label='ROC curve (area = %0.2f)' % roc_auc)\n",
    "plt.scatter(fpr, tpr, c=thresholds, cmap='viridis', label='Threshold')\n",
    "plt.colorbar()\n",
    "plt.plot([0, 1], [0, 1], color='black', linestyle='--')\n",
    "plt.xlim([0.0, 1.0])\n",
    "plt.ylim([0.0, 1.05])\n",
    "plt.xlabel('False Positive Rate')\n",
    "plt.ylabel('True Positive Rate')\n",
    "plt.title('ROC: Naive Bayes Classifier')\n",
    "plt.legend(loc=\"lower right\")"
   ]
  },
  {
   "cell_type": "code",
   "execution_count": null,
   "metadata": {
    "collapsed": true
   },
   "outputs": [],
   "source": [
    "best = 0.5\n",
    "first_party_collection_NB_final = Pipeline([\n",
    "    ('bow',CountVectorizer(ngram_range=(2,2))),\n",
    "    ('tfidf',TfidfTransformer()),\n",
    "    ('classifier',MultinomialNB(class_prior=[1-best,best]))\n",
    "])\n",
    "first_party_collection_NB_final.fit(segments_train,targets_train)\n",
    "preds = first_party_collection_NB_final.predict(segments_test)"
   ]
  },
  {
   "cell_type": "code",
   "execution_count": 26,
   "metadata": {},
   "outputs": [
    {
     "name": "stdout",
     "output_type": "stream",
     "text": [
      "[[7615   17]\n",
      " [   7  108]]\n",
      "             precision    recall  f1-score   support\n",
      "\n",
      "          0       1.00      1.00      1.00      7632\n",
      "          1       0.86      0.94      0.90       115\n",
      "\n",
      "avg / total       1.00      1.00      1.00      7747\n",
      "\n"
     ]
    }
   ],
   "source": [
    "#Quick diagnostics\n",
    "print(confusion_matrix(targets_test,preds))\n",
    "print(classification_report(targets_test,preds))"
   ]
  },
  {
   "cell_type": "code",
   "execution_count": 27,
   "metadata": {
    "collapsed": true
   },
   "outputs": [],
   "source": [
    "#Pickle it out\n",
    "import pickle\n",
    "with open('../pickles/data_retention_NB_segment.pkl','wb') as file:\n",
    "    pickle.dump(data_retention_NB_final,file)"
   ]
  },
  {
   "cell_type": "markdown",
   "metadata": {},
   "source": [
    "### Random Forest Classifier\n",
    "\n",
    "**Observations**\n",
    "- more estimators don't seem to help much\n",
    "- feature pre-processing seems to be the bigger factor"
   ]
  },
  {
   "cell_type": "code",
   "execution_count": 185,
   "metadata": {
    "collapsed": true
   },
   "outputs": [],
   "source": [
    "from sklearn.ensemble import RandomForestClassifier"
   ]
  },
  {
   "cell_type": "code",
   "execution_count": 186,
   "metadata": {
    "collapsed": true
   },
   "outputs": [],
   "source": [
    "#New pipeline\n",
    "data_encryption_RF_segment = Pipeline([\n",
    "    ('bow',CountVectorizer(ngram_range=(2,2))),\n",
    "    ('tfidf',TfidfTransformer()),\n",
    "    ('classifier',RandomForestClassifier(class_weight='balanced'))\n",
    "])"
   ]
  },
  {
   "cell_type": "code",
   "execution_count": 59,
   "metadata": {
    "scrolled": true
   },
   "outputs": [
    {
     "name": "stdout",
     "output_type": "stream",
     "text": [
      "AUC: min 0.486, mean 0.517, max 0.544\n"
     ]
    }
   ],
   "source": [
    "#Do a k-fold cross validation and get AUC for ROC curve for each\n",
    "cv = KFold(n_splits=5,random_state=84)\n",
    "scoring='roc_auc'\n",
    "\n",
    "results = cross_val_score(data_encryption_RF_segment,segments_train,targets_train,cv=cv,scoring=scoring)\n",
    "print('AUC: min %0.3f, mean %0.3f, max %0.3f' % (results.min(), results.mean(), results.max()))"
   ]
  },
  {
   "cell_type": "code",
   "execution_count": 187,
   "metadata": {
    "collapsed": true
   },
   "outputs": [],
   "source": [
    "#Build out ROC curve for variety of n_classifiers\n",
    "n_estimators = [10,50,100]\n",
    "fpr = {}\n",
    "tpr = {}\n",
    "roc_auc = {}\n",
    "\n",
    "for n in n_estimators:\n",
    "#     data_encryption_RF_segment = Pipeline([\n",
    "#         ('bow',CountVectorizer()),\n",
    "#         ('tfidf',TfidfTransformer()),\n",
    "#         ('classifier',RandomForestClassifier(class_weight='balanced',n_estimators=n))\n",
    "#     ])\n",
    "    params = {'classifier__n_estimators': n}\n",
    "    data_encryption_RF_segment.set_params(**params)\n",
    "    data_encryption_RF_segment.fit(segments_train, targets_train)\n",
    "    targets_prob = data_encryption_RF_segment.predict_proba(segments_test)\n",
    "    #preds = data_encryption_RF_segment.predict(segments_test)\n",
    "    fpr[n], tpr[n], __ = roc_curve(targets_test, targets_prob[:,1])\n",
    "    roc_auc[n] = auc(fpr[n],tpr[n])"
   ]
  },
  {
   "cell_type": "code",
   "execution_count": 188,
   "metadata": {},
   "outputs": [
    {
     "data": {
      "text/plain": [
       "<matplotlib.legend.Legend at 0x11670da20>"
      ]
     },
     "execution_count": 188,
     "metadata": {},
     "output_type": "execute_result"
    },
    {
     "data": {
      "image/png": "[encoded data removed]",
      "text/plain": [
       "<matplotlib.figure.Figure at 0x11b6da550>"
      ]
     },
     "metadata": {},
     "output_type": "display_data"
    }
   ],
   "source": [
    "#Plotting out the ROC curve\n",
    "import matplotlib.pyplot as plt\n",
    "%matplotlib inline\n",
    "\n",
    "plt.figure(figsize=(8,6))\n",
    "for n in n_estimators:\n",
    "    plt.plot(fpr[n], tpr[n], label='ROC curve, n=%s (area = %0.2f)' % (n,roc_auc[n]))\n",
    "\n",
    "plt.plot([0, 1], [0, 1], color='black', linestyle='--')\n",
    "plt.xlim([0.0, 1.0])\n",
    "plt.ylim([0.0, 1.05])\n",
    "plt.xlabel('False Positive Rate')\n",
    "plt.ylabel('True Positive Rate')\n",
    "plt.title('ROC: Random Forest Classifier')\n",
    "plt.legend(loc=\"lower right\")"
   ]
  },
  {
   "cell_type": "code",
   "execution_count": 123,
   "metadata": {},
   "outputs": [
    {
     "name": "stdout",
     "output_type": "stream",
     "text": [
      "[[1754  105]\n",
      " [  80    2]]\n",
      "             precision    recall  f1-score   support\n",
      "\n",
      "          0       0.96      0.94      0.95      1859\n",
      "          1       0.02      0.02      0.02        82\n",
      "\n",
      "avg / total       0.92      0.90      0.91      1941\n",
      "\n"
     ]
    }
   ],
   "source": [
    "#Quick diagnostics\n",
    "print(confusion_matrix(targets_test,preds_segments))\n",
    "print(classification_report(targets_test,preds_segments))"
   ]
  },
  {
   "cell_type": "markdown",
   "metadata": {},
   "source": [
    "## Policy-level model\n",
    "### Multinomial Naive Bayes"
   ]
  },
  {
   "cell_type": "code",
   "execution_count": 193,
   "metadata": {
    "collapsed": true
   },
   "outputs": [],
   "source": [
    "#Select category targets\n",
    "sql = \"\"\"\n",
    "SELECT \"Policy UID\",data_security FROM binary_policy_categories\n",
    "WHERE \"Policy UID\" IN \n",
    "(SELECT \"Policy UID\" FROM sites\n",
    "WHERE \"In 115 Set?\" = TRUE)\n",
    "\"\"\"\n",
    "\n",
    "targets_policies = pd.read_sql_query(sql,con)"
   ]
  },
  {
   "cell_type": "code",
   "execution_count": 194,
   "metadata": {},
   "outputs": [
    {
     "data": {
      "text/html": [
       "<div>\n",
       "<style>\n",
       "    .dataframe thead tr:only-child th {\n",
       "        text-align: right;\n",
       "    }\n",
       "\n",
       "    .dataframe thead th {\n",
       "        text-align: left;\n",
       "    }\n",
       "\n",
       "    .dataframe tbody tr th {\n",
       "        vertical-align: top;\n",
       "    }\n",
       "</style>\n",
       "<table border=\"1\" class=\"dataframe\">\n",
       "  <thead>\n",
       "    <tr style=\"text-align: right;\">\n",
       "      <th></th>\n",
       "      <th>Policy UID</th>\n",
       "      <th>data_security</th>\n",
       "    </tr>\n",
       "  </thead>\n",
       "  <tbody>\n",
       "    <tr>\n",
       "      <th>0</th>\n",
       "      <td>20</td>\n",
       "      <td>1</td>\n",
       "    </tr>\n",
       "    <tr>\n",
       "      <th>1</th>\n",
       "      <td>21</td>\n",
       "      <td>1</td>\n",
       "    </tr>\n",
       "    <tr>\n",
       "      <th>2</th>\n",
       "      <td>26</td>\n",
       "      <td>1</td>\n",
       "    </tr>\n",
       "    <tr>\n",
       "      <th>3</th>\n",
       "      <td>32</td>\n",
       "      <td>1</td>\n",
       "    </tr>\n",
       "    <tr>\n",
       "      <th>4</th>\n",
       "      <td>33</td>\n",
       "      <td>1</td>\n",
       "    </tr>\n",
       "  </tbody>\n",
       "</table>\n",
       "</div>"
      ],
      "text/plain": [
       "   Policy UID  data_security\n",
       "0          20              1\n",
       "1          21              1\n",
       "2          26              1\n",
       "3          32              1\n",
       "4          33              1"
      ]
     },
     "execution_count": 194,
     "metadata": {},
     "output_type": "execute_result"
    }
   ],
   "source": [
    "targets_policies.head()"
   ]
  },
  {
   "cell_type": "code",
   "execution_count": 195,
   "metadata": {
    "collapsed": true
   },
   "outputs": [],
   "source": [
    "#Select original policies as features\n",
    "sql = \"\"\"\n",
    "SELECT \"Policy UID\", policy_text FROM sites\n",
    "WHERE sites.\"In 115 Set?\" = TRUE\n",
    "\"\"\"\n",
    "\n",
    "policies = pd.read_sql_query(sql,con)"
   ]
  },
  {
   "cell_type": "code",
   "execution_count": 196,
   "metadata": {},
   "outputs": [
    {
     "data": {
      "text/html": [
       "<div>\n",
       "<style>\n",
       "    .dataframe thead tr:only-child th {\n",
       "        text-align: right;\n",
       "    }\n",
       "\n",
       "    .dataframe thead th {\n",
       "        text-align: left;\n",
       "    }\n",
       "\n",
       "    .dataframe tbody tr th {\n",
       "        vertical-align: top;\n",
       "    }\n",
       "</style>\n",
       "<table border=\"1\" class=\"dataframe\">\n",
       "  <thead>\n",
       "    <tr style=\"text-align: right;\">\n",
       "      <th></th>\n",
       "      <th>Policy UID</th>\n",
       "      <th>policy_text</th>\n",
       "    </tr>\n",
       "  </thead>\n",
       "  <tbody>\n",
       "    <tr>\n",
       "      <th>0</th>\n",
       "      <td>20</td>\n",
       "      <td>&lt;strong&gt; Privacy Policy &lt;/strong&gt; &lt;br&gt; &lt;br&gt; &lt;s...</td>\n",
       "    </tr>\n",
       "    <tr>\n",
       "      <th>1</th>\n",
       "      <td>21</td>\n",
       "      <td>IMDb Privacy Notice &lt;br&gt; &lt;br&gt;|||Last Updated, ...</td>\n",
       "    </tr>\n",
       "    <tr>\n",
       "      <th>2</th>\n",
       "      <td>26</td>\n",
       "      <td>&lt;strong&gt; Privacy Policy &lt;/strong&gt; &lt;br&gt; &lt;br&gt; La...</td>\n",
       "    </tr>\n",
       "    <tr>\n",
       "      <th>3</th>\n",
       "      <td>32</td>\n",
       "      <td>Vox Media Privacy Policy &lt;br&gt; &lt;br&gt;|||&lt;strong&gt; ...</td>\n",
       "    </tr>\n",
       "    <tr>\n",
       "      <th>4</th>\n",
       "      <td>33</td>\n",
       "      <td>Full Privacy Policy &lt;br&gt; &lt;br&gt; Last updated: 14...</td>\n",
       "    </tr>\n",
       "  </tbody>\n",
       "</table>\n",
       "</div>"
      ],
      "text/plain": [
       "   Policy UID                                        policy_text\n",
       "0          20  <strong> Privacy Policy </strong> <br> <br> <s...\n",
       "1          21  IMDb Privacy Notice <br> <br>|||Last Updated, ...\n",
       "2          26  <strong> Privacy Policy </strong> <br> <br> La...\n",
       "3          32  Vox Media Privacy Policy <br> <br>|||<strong> ...\n",
       "4          33  Full Privacy Policy <br> <br> Last updated: 14..."
      ]
     },
     "execution_count": 196,
     "metadata": {},
     "output_type": "execute_result"
    }
   ],
   "source": [
    "policies.head()"
   ]
  },
  {
   "cell_type": "code",
   "execution_count": 197,
   "metadata": {
    "collapsed": true
   },
   "outputs": [],
   "source": [
    "#Split data using 30%/70% split, random seed is my birthday\n",
    "policies_train, policies_test, targets_train, targets_test = train_test_split(policies['policy_text'], \n",
    "    targets_policies['data_security'], test_size=0.3, random_state=84)"
   ]
  },
  {
   "cell_type": "code",
   "execution_count": 198,
   "metadata": {
    "collapsed": true
   },
   "outputs": [],
   "source": [
    "policies_train = policies_train.map(text_process_policy)\n",
    "policies_test = policies_test.map(text_process_policy)"
   ]
  },
  {
   "cell_type": "code",
   "execution_count": 199,
   "metadata": {
    "collapsed": true
   },
   "outputs": [],
   "source": [
    "#Set up an sklearn pipeline that processes policies, transforms them into a BOW model, applies TFIDF metric,\n",
    "#then develops a Naive Bayes classifier.\n",
    "data_encryption_NB_policy = Pipeline([\n",
    "    ('bow',CountVectorizer(ngram_range=(2,2))),\n",
    "    ('tfidf',TfidfTransformer()),\n",
    "    ('classifier',MultinomialNB())\n",
    "])"
   ]
  },
  {
   "cell_type": "code",
   "execution_count": 202,
   "metadata": {
    "collapsed": true
   },
   "outputs": [],
   "source": [
    "#Now fit/train the model\n",
    "data_encryption_NB_policy.fit(policies_train,targets_train)\n",
    "targets_prob = data_encryption_NB_policy.predict_proba(policies_test)\n",
    "preds = data_encryption_NB_policy.predict(policies_test)\n",
    "fpr, tpr, thresh = roc_curve(targets_test, targets_prob[:,1])\n",
    "roc_auc = auc(fpr,tpr)"
   ]
  },
  {
   "cell_type": "code",
   "execution_count": 203,
   "metadata": {},
   "outputs": [
    {
     "data": {
      "text/plain": [
       "array([ 0.97745218,  0.94137656,  0.93938354,  0.93771542,  0.9357203 ,\n",
       "        0.89941673,  0.88990142,  0.81776601])"
      ]
     },
     "execution_count": 203,
     "metadata": {},
     "output_type": "execute_result"
    }
   ],
   "source": [
    "thresh"
   ]
  },
  {
   "cell_type": "code",
   "execution_count": 204,
   "metadata": {},
   "outputs": [
    {
     "data": {
      "text/plain": [
       "<matplotlib.legend.Legend at 0x1166498d0>"
      ]
     },
     "execution_count": 204,
     "metadata": {},
     "output_type": "execute_result"
    },
    {
     "data": {
      "image/png": "[encoded data removed]",
      "text/plain": [
       "<matplotlib.figure.Figure at 0x1198fcac8>"
      ]
     },
     "metadata": {},
     "output_type": "display_data"
    }
   ],
   "source": [
    "#Plotting out the ROC curve\n",
    "import matplotlib.pyplot as plt\n",
    "%matplotlib inline\n",
    "\n",
    "plt.figure(figsize=(8,6))\n",
    "plt.plot(fpr, tpr, color='navy', label='ROC curve (area = %0.2f)' % roc_auc,\n",
    "        marker='o',markerfacecolor='red')\n",
    "plt.plot([0, 1], [0, 1], color='black', linestyle='--')\n",
    "plt.xlim([0.0, 1.0])\n",
    "plt.ylim([0.0, 1.05])\n",
    "plt.xlabel('False Positive Rate')\n",
    "plt.ylabel('True Positive Rate')\n",
    "plt.title('ROC: Naive Bayes Classifier')\n",
    "plt.legend(loc=\"lower right\")"
   ]
  },
  {
   "cell_type": "markdown",
   "metadata": {},
   "source": [
    "Note: optimal performance appears to occur at about the 6th point."
   ]
  },
  {
   "cell_type": "code",
   "execution_count": 210,
   "metadata": {
    "collapsed": true
   },
   "outputs": [],
   "source": [
    "#Set the final model and re-predict\n",
    "opt = thresh[3] #The 6th point\n",
    "data_encryption_NB_policy_final = Pipeline([\n",
    "    ('bow',CountVectorizer(ngram_range=(2,2))),\n",
    "    ('tfidf',TfidfTransformer()),\n",
    "    ('classifier',MultinomialNB(class_prior=[1-opt,opt]))\n",
    "])\n",
    "data_encryption_NB_policy_final.fit(policies_train,targets_train)\n",
    "preds = data_encryption_NB_policy_final.predict(policies_test)"
   ]
  },
  {
   "cell_type": "code",
   "execution_count": 211,
   "metadata": {
    "scrolled": true
   },
   "outputs": [
    {
     "name": "stdout",
     "output_type": "stream",
     "text": [
      "[[ 0  4]\n",
      " [ 0 31]]\n",
      "             precision    recall  f1-score   support\n",
      "\n",
      "          0       0.00      0.00      0.00         4\n",
      "          1       0.89      1.00      0.94        31\n",
      "\n",
      "avg / total       0.78      0.89      0.83        35\n",
      "\n"
     ]
    },
    {
     "name": "stderr",
     "output_type": "stream",
     "text": [
      "/Users/peterostendorp/anaconda/lib/python3.6/site-packages/sklearn/metrics/classification.py:1113: UndefinedMetricWarning: Precision and F-score are ill-defined and being set to 0.0 in labels with no predicted samples.\n",
      "  'precision', 'predicted', average, warn_for)\n"
     ]
    }
   ],
   "source": [
    "#Report\n",
    "print(confusion_matrix(targets_test,preds))\n",
    "print(classification_report(targets_test,preds))"
   ]
  },
  {
   "cell_type": "code",
   "execution_count": 213,
   "metadata": {
    "collapsed": true
   },
   "outputs": [],
   "source": [
    "#Pickle out the model\n",
    "import pickle\n",
    "with open('../pickles/data_encryption_NB_policy.pkl', 'wb') as file:\n",
    "    pickle.dump(data_encryption_NB_policy_final,file)"
   ]
  },
  {
   "cell_type": "markdown",
   "metadata": {},
   "source": [
    "### Adaptive boosting"
   ]
  },
  {
   "cell_type": "code",
   "execution_count": 138,
   "metadata": {
    "collapsed": true
   },
   "outputs": [],
   "source": [
    "from sklearn.ensemble import AdaBoostClassifier"
   ]
  },
  {
   "cell_type": "markdown",
   "metadata": {},
   "source": [
    "**TO DO**\n",
    "- consider different tokenizer\n",
    "- bigrams?\n",
    "- pass in legal dictionary"
   ]
  },
  {
   "cell_type": "code",
   "execution_count": 139,
   "metadata": {
    "collapsed": true
   },
   "outputs": [],
   "source": [
    "#Set up an sklearn pipeline that processes policies, transforms them into a BOW model, applies TFIDF metric,\n",
    "#then develops an AdaBoost classifier with 100 weak learners.\n",
    "data_encryption_ADA_policy = Pipeline([\n",
    "    ('bow',CountVectorizer(ngram_range=(2,2))),\n",
    "    ('tfidf',TfidfTransformer()),\n",
    "    ('classifier',AdaBoostClassifier())\n",
    "])"
   ]
  },
  {
   "cell_type": "code",
   "execution_count": 141,
   "metadata": {
    "collapsed": true
   },
   "outputs": [],
   "source": [
    "#Now fit/train the model\n",
    "#Build out ROC curve for variety of n_classifiers\n",
    "n_estimators = [10,50,100]\n",
    "fpr = {}\n",
    "tpr = {}\n",
    "roc_auc = {}\n",
    "\n",
    "for n in n_estimators:\n",
    "    params = {'classifier__n_estimators': n}\n",
    "    data_encryption_ADA_policy.set_params(**params)\n",
    "    data_encryption_ADA_policy.fit(policies_train, targets_train)\n",
    "    targets_prob = data_encryption_ADA_policy.predict_proba(policies_test)\n",
    "    #preds = data_encryption_RF_segment.predict(segments_test)\n",
    "    fpr[n], tpr[n], __ = roc_curve(targets_test, targets_prob[:,1])\n",
    "    roc_auc[n] = auc(fpr[n],tpr[n])"
   ]
  },
  {
   "cell_type": "code",
   "execution_count": 142,
   "metadata": {},
   "outputs": [
    {
     "data": {
      "text/plain": [
       "<matplotlib.legend.Legend at 0x116693a20>"
      ]
     },
     "execution_count": 142,
     "metadata": {},
     "output_type": "execute_result"
    },
    {
     "data": {
      "image/png": "[encoded data removed]",
      "text/plain": [
       "<matplotlib.figure.Figure at 0x1197f5c88>"
      ]
     },
     "metadata": {},
     "output_type": "display_data"
    }
   ],
   "source": [
    "#Plotting out the ROC curve\n",
    "import matplotlib.pyplot as plt\n",
    "%matplotlib inline\n",
    "\n",
    "plt.figure(figsize=(8,6))\n",
    "for n in n_estimators:\n",
    "    plt.plot(fpr[n], tpr[n], label='ROC curve, n=%s (area = %0.2f)' % (n,roc_auc[n]))\n",
    "\n",
    "plt.plot([0, 1], [0, 1], color='black', linestyle='--')\n",
    "plt.xlim([0.0, 1.0])\n",
    "plt.ylim([0.0, 1.05])\n",
    "plt.xlabel('False Positive Rate')\n",
    "plt.ylabel('True Positive Rate')\n",
    "plt.title('ROC: AdaBoost Classifier')\n",
    "plt.legend(loc=\"lower right\")"
   ]
  },
  {
   "cell_type": "code",
   "execution_count": 143,
   "metadata": {},
   "outputs": [
    {
     "name": "stdout",
     "output_type": "stream",
     "text": [
      "[[ 2  2]\n",
      " [ 6 25]]\n",
      "             precision    recall  f1-score   support\n",
      "\n",
      "          0       0.25      0.50      0.33         4\n",
      "          1       0.93      0.81      0.86        31\n",
      "\n",
      "avg / total       0.85      0.77      0.80        35\n",
      "\n"
     ]
    }
   ],
   "source": [
    "#Report\n",
    "preds = data_encryption_ADA_policy.predict(policies_test)\n",
    "print(confusion_matrix(targets_test,preds))\n",
    "print(classification_report(targets_test,preds))"
   ]
  },
  {
   "cell_type": "code",
   "execution_count": 86,
   "metadata": {
    "collapsed": true
   },
   "outputs": [],
   "source": [
    "import pickle"
   ]
  },
  {
   "cell_type": "code",
   "execution_count": 87,
   "metadata": {
    "collapsed": true
   },
   "outputs": [],
   "source": [
    "with open('../pickles/data_encryption_ADA_policy.pkl', 'wb') as file:\n",
    "    pickle.dump(data_encryption_ADA_policy,file)"
   ]
  },
  {
   "cell_type": "markdown",
   "metadata": {},
   "source": [
    "## Random Forest"
   ]
  },
  {
   "cell_type": "code",
   "execution_count": 88,
   "metadata": {
    "collapsed": true
   },
   "outputs": [],
   "source": [
    "from sklearn.ensemble import RandomForestClassifier"
   ]
  },
  {
   "cell_type": "code",
   "execution_count": 155,
   "metadata": {
    "collapsed": true
   },
   "outputs": [],
   "source": [
    "#Set up an sklearn pipeline that processes policies, transforms them into a BOW model, applies TFIDF metric,\n",
    "#then develops an AdaBoost classifier with 100 weak learners.\n",
    "data_encryption_RF_policy = Pipeline([\n",
    "    ('bow',CountVectorizer(ngram_range=(2,2))),\n",
    "    ('tfidf',TfidfTransformer()),\n",
    "    ('classifier',RandomForestClassifier(class_weight='balanced'))\n",
    "])"
   ]
  },
  {
   "cell_type": "code",
   "execution_count": 158,
   "metadata": {
    "collapsed": true
   },
   "outputs": [],
   "source": [
    "#Now fit/train the model\n",
    "#Build out ROC curve for variety of n_classifiers\n",
    "n_estimators = [10,50,100,200,300]\n",
    "fpr = {}\n",
    "tpr = {}\n",
    "roc_auc = {}\n",
    "\n",
    "for n in n_estimators:\n",
    "    params = {'classifier__n_estimators': n}\n",
    "    data_encryption_RF_policy.set_params(**params)\n",
    "    data_encryption_RF_policy.fit(policies_train, targets_train)\n",
    "    targets_prob = data_encryption_RF_policy.predict_proba(policies_test)\n",
    "    #preds = data_encryption_RF_segment.predict(segments_test)\n",
    "    fpr[n], tpr[n], __ = roc_curve(targets_test, targets_prob[:,1])\n",
    "    roc_auc[n] = auc(fpr[n],tpr[n])"
   ]
  },
  {
   "cell_type": "code",
   "execution_count": 159,
   "metadata": {},
   "outputs": [
    {
     "data": {
      "text/plain": [
       "<matplotlib.legend.Legend at 0x1190f3dd8>"
      ]
     },
     "execution_count": 159,
     "metadata": {},
     "output_type": "execute_result"
    },
    {
     "data": {
      "image/png": "[encoded data removed]",
      "text/plain": [
       "<matplotlib.figure.Figure at 0x1174c4438>"
      ]
     },
     "metadata": {},
     "output_type": "display_data"
    }
   ],
   "source": [
    "#Plotting out the ROC curve\n",
    "import matplotlib.pyplot as plt\n",
    "%matplotlib inline\n",
    "\n",
    "plt.figure(figsize=(8,6))\n",
    "for n in n_estimators:\n",
    "    plt.plot(fpr[n], tpr[n], label='ROC curve, n=%s (area = %0.2f)' % (n,roc_auc[n]))\n",
    "\n",
    "plt.plot([0, 1], [0, 1], color='black', linestyle='--')\n",
    "plt.xlim([0.0, 1.0])\n",
    "plt.ylim([0.0, 1.05])\n",
    "plt.xlabel('False Positive Rate')\n",
    "plt.ylabel('True Positive Rate')\n",
    "plt.title('ROC: Random Forest Classifier')\n",
    "plt.legend(loc=\"lower right\")"
   ]
  },
  {
   "cell_type": "code",
   "execution_count": 160,
   "metadata": {
    "collapsed": true
   },
   "outputs": [],
   "source": [
    "#Predict\n",
    "preds = data_encryption_RF_policy.predict(policies_test)"
   ]
  },
  {
   "cell_type": "code",
   "execution_count": 161,
   "metadata": {},
   "outputs": [
    {
     "name": "stdout",
     "output_type": "stream",
     "text": [
      "[[ 0  4]\n",
      " [ 2 29]]\n",
      "             precision    recall  f1-score   support\n",
      "\n",
      "          0       0.00      0.00      0.00         4\n",
      "          1       0.88      0.94      0.91        31\n",
      "\n",
      "avg / total       0.78      0.83      0.80        35\n",
      "\n"
     ]
    }
   ],
   "source": [
    "#Report\n",
    "print(confusion_matrix(targets_test,preds))\n",
    "print(classification_report(targets_test,preds))"
   ]
  },
  {
   "cell_type": "code",
   "execution_count": 94,
   "metadata": {
    "collapsed": true
   },
   "outputs": [],
   "source": [
    "# with open('filename.pickle', 'wb') as handle:\n",
    "#     pickle.dump(a, handle, protocol=pickle.HIGHEST_PROTOCOL)\n",
    "\n",
    "with open('../pickles/data_encryption_RF_policy.pkl', 'wb') as file:\n",
    "    pickle.dump(data_encryption_RF_policy,file)"
   ]
  },
  {
   "cell_type": "code",
   "execution_count": null,
   "metadata": {
    "collapsed": true
   },
   "outputs": [],
   "source": []
  }
 ],
 "metadata": {
  "kernelspec": {
   "display_name": "Python 3",
   "language": "python",
   "name": "python3"
  },
  "language_info": {
   "codemirror_mode": {
    "name": "ipython",
    "version": 3
   },
   "file_extension": ".py",
   "mimetype": "text/x-python",
   "name": "python",
   "nbconvert_exporter": "python",
   "pygments_lexer": "ipython3",
   "version": "3.6.1"
  }
 },
 "nbformat": 4,
 "nbformat_minor": 2
}
