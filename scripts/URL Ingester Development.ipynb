{
 "cells": [
  {
   "cell_type": "code",
   "execution_count": 24,
   "metadata": {
    "collapsed": true
   },
   "outputs": [],
   "source": [
    "import requests\n",
    "import re\n",
    "from bs4 import BeautifulSoup\n",
    "from bs4.element import Comment\n",
    "import urllib"
   ]
  },
  {
   "cell_type": "markdown",
   "metadata": {},
   "source": [
    "## From stack exchange\n",
    "https://stackoverflow.com/questions/1936466/beautifulsoup-grab-visible-webpage-text"
   ]
  },
  {
   "cell_type": "code",
   "execution_count": 31,
   "metadata": {
    "collapsed": true
   },
   "outputs": [],
   "source": [
    "from bs4 import BeautifulSoup\n",
    "from bs4.element import Comment\n",
    "import urllib\n",
    "\n",
    "\n",
    "def tag_visible(element):\n",
    "    if element.parent.name in ['style', 'script', 'head', 'title', 'meta', '[document]']:\n",
    "        return False\n",
    "    if isinstance(element, Comment):\n",
    "        return False\n",
    "    return True\n",
    "\n",
    "\n",
    "def text_from_html(body):\n",
    "    soup = BeautifulSoup(body, 'html.parser')\n",
    "    texts = soup.findAll(text=True)\n",
    "    visible_texts = filter(tag_visible, texts)  \n",
    "    return u\"\\n\".join(t.strip() for t in visible_texts)\n"
   ]
  },
  {
   "cell_type": "code",
   "execution_count": 38,
   "metadata": {},
   "outputs": [
    {
     "data": {
      "text/plain": [
       "200"
      ]
     },
     "execution_count": 38,
     "metadata": {},
     "output_type": "execute_result"
    }
   ],
   "source": [
    "page = urllib.request.urlopen('https://www.facebook.com/legal/FB_Work_Privacy')\n",
    "html = page.read()\n",
    "page.code"
   ]
  },
  {
   "cell_type": "code",
   "execution_count": 73,
   "metadata": {},
   "outputs": [
    {
     "data": {
      "text/plain": [
       "'med.net'"
      ]
     },
     "execution_count": 73,
     "metadata": {},
     "output_type": "execute_result"
    }
   ],
   "source": [
    "#Parse out the URL\n",
    "url = 'http://med.net/this/that?thisthat/something.html'\n",
    "'.'.join(url.split('//')[-1].split('/')[0].split('.')[-2:])\n",
    "# >>> url.split(\"//\")[-1].split(\"/\")[0]\n",
    "# 'stackoverflow.com'\n",
    "# >>> url = \"stackoverflow.com/questions/9626535/get-domain-name-from-url\"\n",
    "# >>> url.split(\"//\")[-1].split(\"/\")[0]\n",
    "# 'stackoverflow.com'"
   ]
  },
  {
   "cell_type": "markdown",
   "metadata": {},
   "source": [
    "## Define a new url segmenter to do all this."
   ]
  },
  {
   "cell_type": "code",
   "execution_count": 39,
   "metadata": {
    "collapsed": true
   },
   "outputs": [],
   "source": [
    "import urllib\n",
    "from bs4 import BeautifulSoup\n",
    "\n",
    "\n",
    "def url_input_parser(url):\n",
    "    \"\"\"\n",
    "    Input is url as a string. Parses body text and returns\n",
    "    string of all paragraph elements in doc.\n",
    "    Secondarily, searches the input url for its domain and returns\n",
    "    domain in the form 'google.com'.\n",
    "    \"\"\"\n",
    "    \n",
    "    # Request URL\n",
    "    page = urllib.request.urlopen(url)\n",
    "\n",
    "    # Check we got a good response, otherwise complain\n",
    "    if str(page.code)[0] != '2':\n",
    "        e = urllib.error.URLError('The server returned status code ' + str(page.code))\n",
    "        raise e\n",
    "    \n",
    "    content = page.read()\n",
    "    \n",
    "    # Parse URL paragraphs\n",
    "    pars = text_from_html(content)\n",
    "\n",
    "    # Parse domain\n",
    "    domain = '.'.join(url.split('//')[-1].split('/')[0].split('.')[-2:])\n",
    "    return pars, domain\n"
   ]
  },
  {
   "cell_type": "code",
   "execution_count": 44,
   "metadata": {},
   "outputs": [
    {
     "name": "stdout",
     "output_type": "stream",
     "text": [
      "\n",
      "Jump to\n",
      "Sections of this page\n",
      "Accessibility Help\n",
      "Press\n",
      "alt\n",
      "+\n",
      "/\n",
      "to open this menu\n",
      "Facebook\n",
      "Join or Log Into Facebook\n",
      "Email or Phone\n",
      "Password\n",
      "Forgot account?\n",
      "Log In\n",
      "Do you want to join Facebook?\n",
      "Sign Up\n",
      "Sign Up\n",
      "Workplace Privacy Policy\n",
      "Effective Date: September 30, 2016\n",
      "Workplace allows users to more effectively collaborate and share information at work. This Privacy Policy describes how and when your information is collected, used, and shared by Facebook when you, your colleagues, or other users use the Workplace platform (which includes the Workplace websites, apps and related online services that link to this Privacy Policy, which we call the “Services”).\n",
      "The Services are intended for use by organizations and in accordance with their instructions. If you are using the Services in a workplace or on a device or account issued to you by your employer or another organization (your “Organization”), that Organization likely has its own policies regarding storage, access, modification, deletion, and retention of information you submit or provide through the Services.\n",
      "This means that your Organization has the right to (i) control and administer your Workplace account (“Your Account”) and (ii) access and process any data you submit or provide through the Services, including, for example, your files and communications. Please contact your Organization with any privacy inquiries regarding policies, including any enterprise agreements with Facebook, it has in place regarding your use of the Services.\n",
      "As a reminder, Workplace is a different service from other Facebook services you may use. Those other Facebook services are governed by their own terms, whereas this Privacy Policy and the\n",
      "Workplace Acceptable Use Policy\n",
      "applies to your use of the Services.\n",
      "I. COLLECTION OF INFORMATION\n",
      "Facebook may collect the following kinds of information on behalf of your Organization when you, your colleagues, or other users access the Services:\n",
      "Customer Data\n",
      ". Through use of the Services, you, your colleagues, your Organization, and other users, will directly provide or submit information to Facebook (\"\n",
      "Customer Data\n",
      "\"). Customer Data includes, for example:\n",
      "Contact information, such as full name and email address;\n",
      "Demographic information;\n",
      "Username and password;\n",
      "Work title, department information, and other information related to your work or Organization;\n",
      "All content that you create, share or post in audio, video, text, images, and other media or software files that you provide on or through the Services, or that are provided on your behalf, including information in or about the content you provide, such as the location of a photo or the date a file was created;\n",
      "Information other people provide about you when using the Services, including when they send a message to you or upload information about you;\n",
      "All communications with other users of the Services;\n",
      "User communications, feedback, suggestions, and ideas sent to us;\n",
      "Billing information; and\n",
      "Information you provide us when you or your Organization contact or engage us for support regarding the Services.\n",
      "Log and Cookie Data\n",
      ". We automatically collect certain information on your Organization’s behalf through the Services, such as your Internet protocol (IP) address and other browser or device identifiers, browser type, operating system, crash data, Internet service provider, pages that you visit before and after using the Services, the date and time of your visit, information about your activities (such as the links you click and pages you view) within the Services, and other standard server-log information (“Log and Cookie Data”).\n",
      "In order to provide the Services on behalf of your Organization, we may use cookies, pixel tags, local storage objects, and similar technologies to automatically collect this information. You can find out more about our use of cookies and related technologies, including the purposes for which we use them, by reading our\n",
      "Workplace Cookies Statement.\n",
      "By using the Services, you consent to our use of cookies and similar technologies as described in our\n",
      "Workplace Cookies Statement\n",
      ".\n",
      "Your browser or device may offer settings related to these technologies. For more information about whether these settings are available, what they do, and how they work, visit your browser or device's help material. We may not recognize or respond to browser or device signals around tracking, and some settings may interfere with your use of features we offer. Additionally, the settings offered by a browser or device often apply only to that particular browser or device.\n",
      "Information we collect from Facebook and Our Family of Companies\n",
      ". From time to time, we may receive information on your Organization’s behalf, about you from companies that are owned or operated by Facebook, in accordance with their terms and policies.\n",
      "Learn more\n",
      "about these companies and their privacy policies.\n",
      "We also receive information from our third party partners on your Organization’s behalf for some of the purposes described in Section II below.\n",
      "II. USE OF INFORMATION\n",
      "Facebook will use information we collect to provide, develop, and improve the Services on your Organization’s behalf and in accordance with any other instructions from your Organization. Examples of such use include:\n",
      "Communicate with users and administrators regarding their use of the Services;\n",
      "Enhance the security and safety of the Services for your Organization and other users;\n",
      "Personalize your and your Organization’s experiences as part of our provision of the Services;\n",
      "Develop new tools, products, or services for your Organization;\n",
      "Associate activity on our Services across different devices operated by the same individual to improve the Service which we provide to your Organization;\n",
      "Associate activity on our Services across different devices operated by the same individual; and\n",
      "Conduct data and system analytics, including research to improve the Services. In these circumstances Facebook shall to the extent possible use de-identified or aggregated data.\n",
      "We may also use the information we collect in order to operate, maintain, and improve the systems and infrastructure that provide the Services. You and your Organization authorize us to do so and acknowledge that this may also result in improvements to the\n",
      "Facebook Services\n",
      ", since centralized systems and infrastructure support the Services and Facebook Services. For example, we may use crash logs from your use of the Services to identify and fix bugs that may also be present in the Facebook Services.\n",
      "III. DISCLOSURE OF INFORMATION\n",
      "We may, as directed or approved by your Organization, disclose the information that we collect in the following circumstances:\n",
      "To your Organization, network administrators, and other users authorized by your Organization to access the requested information;\n",
      "To third-party service providers that are in the United States and in other countries where such service providers assist in providing the Services or part of the Services;\n",
      "To the family of companies that are\n",
      "part of Facebook;\n",
      "To third-party apps, websites, or other services that you can connect to through the Services;\n",
      "In connection with a substantial corporate transaction, such as the sale of our Services, a merger, consolidation, asset sale, or in the unlikely event of bankruptcy or insolvency;\n",
      "To protect the safety of any person; to address fraud, security or technical issues; or to protect Workplace’s rights or property; and\n",
      "As otherwise directed or authorized by your Organization.\n",
      "Legal Requests\n",
      ". If we receive a subpoena, warrant, discovery order or other request or order from a law enforcement agency, court, other governmental entity, or litigant that seeks data relating to the Services (collectively a “Legal Request”), we will make reasonable attempts to direct the requesting party to seek the data directly from your Organization. If we ask the requesting party to direct the request to the Organization, we will provide your Organization’s contact information to the requesting party. If legally compelled to produce information and unless legally prohibited, we will use reasonable efforts to notify your Organization so they can notify you pursuant to your Organization’s policies and as permitted by law. We will direct any requests for information under data protection laws to your Organization, unless prohibited by law.\n",
      "Aggregate or de-identified data\n",
      ". We may also disclose information that has been aggregated or that otherwise does not personally identify you to third parties and affiliates who may use it for analytics, trends and analysis to improve and provide our products and services and the products and services provided by the Facebook Family of Companies described here.\n",
      "IV. SAFETY AND SECURITY\n",
      "We use the information we have to help verify accounts and activity, and to promote safety and security on and off of our Services on your Organization’s behalf, such as by investigating suspicious activity or violations of our terms or policies. We work hard to protect Your Account using teams of engineers, automated systems, and advanced technology such as encryption and machine learning. For example, we may deploy automated technologies to detect abusive behavior and content, such as child pornography, that may harm our Services, you, other users, your Organization or others.\n",
      "V. ACCESSING AND MODIFYING YOUR INFORMATION\n",
      "You and your Organization may access, correct, or delete information you have uploaded to the Services by using the tools within the Services (for example, editing your profile information or via Activity Log) provided by us on behalf of your Organization. If not enabled by the tools provided on the Services, you should contact your Organization directly to access or modify your information.\n",
      "Changes you make to your information on the Services take immediate effect on your specific network, but data will be retained by Facebook in backup copies for a commercially reasonable amount of time and as directed by your Organization.\n",
      "VI. DATA LOCATION AND PRIVACY SHIELD\n",
      "In providing the Services to you and in using the service providers referred to in this Privacy Policy, you understand that information may be stored or processed in different locations around the world by us on your Organization’s behalf. For example, information collected within the European Economic Area (“EEA”) may, for example, be transferred to countries outside of the EEA for the purposes described in this policy.\n",
      "For users outside the US and Canada, you acknowledge that using the Services may result in Facebook, Inc. receiving personal information from you (it will do so solely acting on behalf of Facebook Ireland Limited (Facebook Ireland)) in respect of which it has made commitments under the EU-US Privacy Shield (“Privacy Shield”). Facebook Inc. complies with the Privacy Shield Principles regarding any personal information received in reliance on Privacy Shield, as described in our Privacy Shield certification. Further information on Facebook Inc.’s participation in Privacy Shield, including contact information, is set out below and also available\n",
      "here\n",
      ".\n",
      "VII. THIRD-PARTY LINKS AND CONTENT\n",
      "Some of the Services may contain links to content maintained by third parties that we do not control. We are not responsible for the privacy practices of these third parties, and we recommend that you visit the privacy policies of each website that you visit.\n",
      "VIII. ACCOUNT CLOSURE\n",
      "If you would like to stop using the Services, you should contact your Organization. Similarly, if you stop working for or with the Organization, the Organization may suspend Your Account and/or delete any information associated with Your Account.\n",
      "It typically takes about 90 days to delete an account on behalf of your Organization after account closure, but some information may remain in backup copies for a reasonable period of time as directed by your Organization. Please note, content you create and share on the Services is owned by your Organization and may remain on the Services and be accessible even if your Organization deactivates or terminates Your Account. In this way, content you provide on the Services is similar to other types of content (such as presentations or memos) that you may generate in the course of your work.\n",
      "IX. CHANGES TO THE PRIVACY POLICY\n",
      "We may update this Privacy Policy from time to time. When we update the Privacy Policy, we will revise the “Effective Date” date above and post the new Privacy Policy.\n",
      "X. CONTACT US\n",
      "If you have any questions about this Privacy Policy or our practices, please first contact us via your Organization’s account manager because, as stated above, your use of our Services is likely subject to your Organization’s own policies.\n",
      "If you have further questions about this Privacy Policy, or wish to learn more about our privacy practices, including transfers under the Privacy Shield, please contact your Organization or us by email at privacyshield@support.facebook.com, or by mail at:\n",
      "Facebook, Inc.\n",
      "1601 Willow Road\n",
      "Menlo Park, CA 94025 (if you live in the US or Canada)\n",
      "OR\n",
      "Facebook Ireland Ltd.\n",
      "4 Grand Canal Square\n",
      "Grand Canal Harbour\n",
      "Dublin 2 Ireland (if you live anywhere else).\n",
      "English (US)\n",
      "Español\n",
      "Français (France)\n",
      "中文(简体)\n",
      "العربية\n",
      "Português (Brasil)\n",
      "Italiano\n",
      "한국어\n",
      "Deutsch\n",
      "हिन्दी\n",
      "日本語\n",
      "Sign Up\n",
      "Log In\n",
      "Messenger\n",
      "Facebook Lite\n",
      "Mobile\n",
      "Find Friends\n",
      "People\n",
      "Pages\n",
      "Places\n",
      "Games\n",
      "Locations\n",
      "Celebrities\n",
      "Marketplace\n",
      "Groups\n",
      "Recipes\n",
      "Sports\n",
      "Moments\n",
      "Instagram\n",
      "About\n",
      "Create Ad\n",
      "Create Page\n",
      "Developers\n",
      "Careers\n",
      "Privacy\n",
      "Cookies\n",
      "Ad Choices\n",
      "Terms\n",
      "Help\n",
      "Settings\n",
      "Activity Log\n",
      "Facebook © 2017\n",
      "\n",
      "\n",
      "\n",
      "\n",
      "\n",
      "\n",
      "\n",
      "\n",
      "\n"
     ]
    }
   ],
   "source": [
    "testurl = 'https://www.facebook.com/legal/FB_Work_Privacy'\n",
    "text, domain = url_input_parser(testurl)\n",
    "print(text)"
   ]
  },
  {
   "cell_type": "markdown",
   "metadata": {
    "collapsed": true
   },
   "source": [
    "## Parsing the results"
   ]
  },
  {
   "cell_type": "code",
   "execution_count": 45,
   "metadata": {
    "collapsed": true
   },
   "outputs": [],
   "source": [
    "def text_paragraph_segmenter(doc):\n",
    "    \"\"\"\n",
    "    input: doc as string\n",
    "    output: list of paragraphs with blank lines removed\n",
    "    \"\"\"\n",
    "\n",
    "    lines = doc.split('\\n')\n",
    "    segs = list()\n",
    "    segs.append(lines[0])\n",
    "    c = 0\n",
    "    for i in range(1, len(lines)):\n",
    "        if len(lines[i]) < 75:  # Less than 75 chars wide in line join to prev line\n",
    "            segs[c] = ' '.join([segs[c], lines[i]])\n",
    "        else:\n",
    "            segs.append(lines[i])\n",
    "            c += 1\n",
    "\n",
    "    return [line for line in segs if line.strip() != '']\n"
   ]
  },
  {
   "cell_type": "code",
   "execution_count": 46,
   "metadata": {},
   "outputs": [],
   "source": [
    "import pandas as pd\n",
    "segments = text_paragraph_segmenter(text)"
   ]
  },
  {
   "cell_type": "code",
   "execution_count": 48,
   "metadata": {},
   "outputs": [
    {
     "name": "stdout",
     "output_type": "stream",
     "text": [
      " Jump to Sections of this page Accessibility Help Press alt + / to open this menu Facebook Join or Log Into Facebook Email or Phone Password Forgot account? Log In Do you want to join Facebook? Sign Up Sign Up Workplace Privacy Policy Effective Date: September 30, 2016\n",
      "Workplace allows users to more effectively collaborate and share information at work. This Privacy Policy describes how and when your information is collected, used, and shared by Facebook when you, your colleagues, or other users use the Workplace platform (which includes the Workplace websites, apps and related online services that link to this Privacy Policy, which we call the “Services”).\n",
      "The Services are intended for use by organizations and in accordance with their instructions. If you are using the Services in a workplace or on a device or account issued to you by your employer or another organization (your “Organization”), that Organization likely has its own policies regarding storage, access, modification, deletion, and retention of information you submit or provide through the Services.\n",
      "This means that your Organization has the right to (i) control and administer your Workplace account (“Your Account”) and (ii) access and process any data you submit or provide through the Services, including, for example, your files and communications. Please contact your Organization with any privacy inquiries regarding policies, including any enterprise agreements with Facebook, it has in place regarding your use of the Services.\n",
      "As a reminder, Workplace is a different service from other Facebook services you may use. Those other Facebook services are governed by their own terms, whereas this Privacy Policy and the Workplace Acceptable Use Policy applies to your use of the Services. I. COLLECTION OF INFORMATION\n",
      "Facebook may collect the following kinds of information on behalf of your Organization when you, your colleagues, or other users access the Services: Customer Data\n",
      ". Through use of the Services, you, your colleagues, your Organization, and other users, will directly provide or submit information to Facebook (\" Customer Data \"). Customer Data includes, for example: Contact information, such as full name and email address; Demographic information; Username and password;\n",
      "Work title, department information, and other information related to your work or Organization;\n",
      "All content that you create, share or post in audio, video, text, images, and other media or software files that you provide on or through the Services, or that are provided on your behalf, including information in or about the content you provide, such as the location of a photo or the date a file was created;\n",
      "Information other people provide about you when using the Services, including when they send a message to you or upload information about you; All communications with other users of the Services; User communications, feedback, suggestions, and ideas sent to us; Billing information; and\n",
      "Information you provide us when you or your Organization contact or engage us for support regarding the Services. Log and Cookie Data\n",
      ". We automatically collect certain information on your Organization’s behalf through the Services, such as your Internet protocol (IP) address and other browser or device identifiers, browser type, operating system, crash data, Internet service provider, pages that you visit before and after using the Services, the date and time of your visit, information about your activities (such as the links you click and pages you view) within the Services, and other standard server-log information (“Log and Cookie Data”).\n",
      "In order to provide the Services on behalf of your Organization, we may use cookies, pixel tags, local storage objects, and similar technologies to automatically collect this information. You can find out more about our use of cookies and related technologies, including the purposes for which we use them, by reading our Workplace Cookies Statement.\n",
      "By using the Services, you consent to our use of cookies and similar technologies as described in our Workplace Cookies Statement .\n",
      "Your browser or device may offer settings related to these technologies. For more information about whether these settings are available, what they do, and how they work, visit your browser or device's help material. We may not recognize or respond to browser or device signals around tracking, and some settings may interfere with your use of features we offer. Additionally, the settings offered by a browser or device often apply only to that particular browser or device. Information we collect from Facebook and Our Family of Companies\n",
      ". From time to time, we may receive information on your Organization’s behalf, about you from companies that are owned or operated by Facebook, in accordance with their terms and policies. Learn more about these companies and their privacy policies.\n",
      "We also receive information from our third party partners on your Organization’s behalf for some of the purposes described in Section II below. II. USE OF INFORMATION\n",
      "Facebook will use information we collect to provide, develop, and improve the Services on your Organization’s behalf and in accordance with any other instructions from your Organization. Examples of such use include:\n",
      "Communicate with users and administrators regarding their use of the Services;\n",
      "Enhance the security and safety of the Services for your Organization and other users;\n",
      "Personalize your and your Organization’s experiences as part of our provision of the Services; Develop new tools, products, or services for your Organization;\n",
      "Associate activity on our Services across different devices operated by the same individual to improve the Service which we provide to your Organization;\n",
      "Associate activity on our Services across different devices operated by the same individual; and\n",
      "Conduct data and system analytics, including research to improve the Services. In these circumstances Facebook shall to the extent possible use de-identified or aggregated data.\n",
      "We may also use the information we collect in order to operate, maintain, and improve the systems and infrastructure that provide the Services. You and your Organization authorize us to do so and acknowledge that this may also result in improvements to the Facebook Services\n",
      ", since centralized systems and infrastructure support the Services and Facebook Services. For example, we may use crash logs from your use of the Services to identify and fix bugs that may also be present in the Facebook Services. III. DISCLOSURE OF INFORMATION\n",
      "We may, as directed or approved by your Organization, disclose the information that we collect in the following circumstances:\n",
      "To your Organization, network administrators, and other users authorized by your Organization to access the requested information;\n",
      "To third-party service providers that are in the United States and in other countries where such service providers assist in providing the Services or part of the Services; To the family of companies that are part of Facebook;\n",
      "To third-party apps, websites, or other services that you can connect to through the Services;\n",
      "In connection with a substantial corporate transaction, such as the sale of our Services, a merger, consolidation, asset sale, or in the unlikely event of bankruptcy or insolvency;\n",
      "To protect the safety of any person; to address fraud, security or technical issues; or to protect Workplace’s rights or property; and As otherwise directed or authorized by your Organization. Legal Requests\n",
      ". If we receive a subpoena, warrant, discovery order or other request or order from a law enforcement agency, court, other governmental entity, or litigant that seeks data relating to the Services (collectively a “Legal Request”), we will make reasonable attempts to direct the requesting party to seek the data directly from your Organization. If we ask the requesting party to direct the request to the Organization, we will provide your Organization’s contact information to the requesting party. If legally compelled to produce information and unless legally prohibited, we will use reasonable efforts to notify your Organization so they can notify you pursuant to your Organization’s policies and as permitted by law. We will direct any requests for information under data protection laws to your Organization, unless prohibited by law. Aggregate or de-identified data\n",
      ". We may also disclose information that has been aggregated or that otherwise does not personally identify you to third parties and affiliates who may use it for analytics, trends and analysis to improve and provide our products and services and the products and services provided by the Facebook Family of Companies described here. IV. SAFETY AND SECURITY\n",
      "We use the information we have to help verify accounts and activity, and to promote safety and security on and off of our Services on your Organization’s behalf, such as by investigating suspicious activity or violations of our terms or policies. We work hard to protect Your Account using teams of engineers, automated systems, and advanced technology such as encryption and machine learning. For example, we may deploy automated technologies to detect abusive behavior and content, such as child pornography, that may harm our Services, you, other users, your Organization or others. V. ACCESSING AND MODIFYING YOUR INFORMATION\n",
      "You and your Organization may access, correct, or delete information you have uploaded to the Services by using the tools within the Services (for example, editing your profile information or via Activity Log) provided by us on behalf of your Organization. If not enabled by the tools provided on the Services, you should contact your Organization directly to access or modify your information.\n",
      "Changes you make to your information on the Services take immediate effect on your specific network, but data will be retained by Facebook in backup copies for a commercially reasonable amount of time and as directed by your Organization. VI. DATA LOCATION AND PRIVACY SHIELD\n",
      "In providing the Services to you and in using the service providers referred to in this Privacy Policy, you understand that information may be stored or processed in different locations around the world by us on your Organization’s behalf. For example, information collected within the European Economic Area (“EEA”) may, for example, be transferred to countries outside of the EEA for the purposes described in this policy.\n",
      "For users outside the US and Canada, you acknowledge that using the Services may result in Facebook, Inc. receiving personal information from you (it will do so solely acting on behalf of Facebook Ireland Limited (Facebook Ireland)) in respect of which it has made commitments under the EU-US Privacy Shield (“Privacy Shield”). Facebook Inc. complies with the Privacy Shield Principles regarding any personal information received in reliance on Privacy Shield, as described in our Privacy Shield certification. Further information on Facebook Inc.’s participation in Privacy Shield, including contact information, is set out below and also available here . VII. THIRD-PARTY LINKS AND CONTENT\n",
      "Some of the Services may contain links to content maintained by third parties that we do not control. We are not responsible for the privacy practices of these third parties, and we recommend that you visit the privacy policies of each website that you visit. VIII. ACCOUNT CLOSURE\n",
      "If you would like to stop using the Services, you should contact your Organization. Similarly, if you stop working for or with the Organization, the Organization may suspend Your Account and/or delete any information associated with Your Account.\n",
      "It typically takes about 90 days to delete an account on behalf of your Organization after account closure, but some information may remain in backup copies for a reasonable period of time as directed by your Organization. Please note, content you create and share on the Services is owned by your Organization and may remain on the Services and be accessible even if your Organization deactivates or terminates Your Account. In this way, content you provide on the Services is similar to other types of content (such as presentations or memos) that you may generate in the course of your work. IX. CHANGES TO THE PRIVACY POLICY\n",
      "We may update this Privacy Policy from time to time. When we update the Privacy Policy, we will revise the “Effective Date” date above and post the new Privacy Policy. X. CONTACT US\n",
      "If you have any questions about this Privacy Policy or our practices, please first contact us via your Organization’s account manager because, as stated above, your use of our Services is likely subject to your Organization’s own policies.\n",
      "If you have further questions about this Privacy Policy, or wish to learn more about our privacy practices, including transfers under the Privacy Shield, please contact your Organization or us by email at privacyshield@support.facebook.com, or by mail at: Facebook, Inc. 1601 Willow Road Menlo Park, CA 94025 (if you live in the US or Canada) OR Facebook Ireland Ltd. 4 Grand Canal Square Grand Canal Harbour Dublin 2 Ireland (if you live anywhere else). English (US) Español Français (France) 中文(简体) العربية Português (Brasil) Italiano 한국어 Deutsch हिन्दी 日本語 Sign Up Log In Messenger Facebook Lite Mobile Find Friends People Pages Places Games Locations Celebrities Marketplace Groups Recipes Sports Moments Instagram About Create Ad Create Page Developers Careers Privacy Cookies Ad Choices Terms Help Settings Activity Log Facebook © 2017         \n"
     ]
    }
   ],
   "source": [
    "for s in segments:\n",
    "    print(s)"
   ]
  },
  {
   "cell_type": "markdown",
   "metadata": {},
   "source": [
    "## Pre-processing policy before the good stuff"
   ]
  },
  {
   "cell_type": "code",
   "execution_count": 124,
   "metadata": {
    "collapsed": true
   },
   "outputs": [],
   "source": [
    "from nltk.stem.snowball import SnowballStemmer\n",
    "from nltk.corpus import stopwords\n",
    "import string\n",
    "def text_process_policy(doc):\n",
    "    \"\"\"\n",
    "    Takes in doc as string and returns a processed string\n",
    "    by performing the following steps:\n",
    "    1. remove HTML tags\n",
    "    2. remove punctuation\n",
    "    3. remove stopwords\n",
    "    4. stemming\n",
    "    5. remove any blank lines\n",
    "    \"\"\"\n",
    "    sn = SnowballStemmer(language='english')\n",
    "\n",
    "    s = re.sub(r'\\<.*\\>','',doc)\n",
    "    lst = [char for char in s if char not in string.punctuation]\n",
    "    lst = ''.join(lst)\n",
    "    lst = [word.lower() for word in lst.split() if word.lower() not in stopwords.words('english')]\n",
    "    lst = [sn.stem(word) for word in lst]\n",
    "    return ' '.join(lst)\n"
   ]
  },
  {
   "cell_type": "code",
   "execution_count": 125,
   "metadata": {},
   "outputs": [
    {
     "name": "stdout",
     "output_type": "stream",
     "text": [
      "['', 'pleas enabl javascript browser upgrad javascriptcap browser regist facebook', '', '', 'click creat account agre', '', 'term', '', 'read', '', 'data polici', '', 'includ', '', 'cooki use', '', 'may receiv sms notif facebook opt time', '']\n"
     ]
    }
   ],
   "source": [
    "segments_processed = [text_process_policy(segment) for segment in segments]\n",
    "print(segments_processed)"
   ]
  },
  {
   "cell_type": "code",
   "execution_count": 133,
   "metadata": {},
   "outputs": [
    {
     "data": {
      "text/plain": [
       "['pleas enabl javascript browser upgrad javascriptcap browser regist facebook',\n",
       " 'click creat account agre',\n",
       " 'term',\n",
       " 'read',\n",
       " 'data polici',\n",
       " 'includ',\n",
       " 'cooki use',\n",
       " 'may receiv sms notif facebook opt time']"
      ]
     },
     "execution_count": 133,
     "metadata": {},
     "output_type": "execute_result"
    }
   ],
   "source": [
    "no_blanks = [segment for segment in segments_processed if segment.strip() != '']\n",
    "no_blanks"
   ]
  },
  {
   "cell_type": "code",
   "execution_count": 134,
   "metadata": {
    "scrolled": true
   },
   "outputs": [
    {
     "data": {
      "text/plain": [
       "['pleas enabl javascript browser upgrad javascriptcap browser regist facebook',\n",
       " 'click creat account agre',\n",
       " 'may receiv sms notif facebook opt time']"
      ]
     },
     "execution_count": 134,
     "metadata": {},
     "output_type": "execute_result"
    }
   ],
   "source": [
    "no_shorties = [segment for segment in no_blanks if len(segment) >= 20]\n",
    "no_shorties"
   ]
  },
  {
   "cell_type": "code",
   "execution_count": null,
   "metadata": {
    "collapsed": true
   },
   "outputs": [],
   "source": []
  }
 ],
 "metadata": {
  "kernelspec": {
   "display_name": "Python 3",
   "language": "python",
   "name": "python3"
  },
  "language_info": {
   "codemirror_mode": {
    "name": "ipython",
    "version": 3
   },
   "file_extension": ".py",
   "mimetype": "text/x-python",
   "name": "python",
   "nbconvert_exporter": "python",
   "pygments_lexer": "ipython3",
   "version": "3.6.1"
  }
 },
 "nbformat": 4,
 "nbformat_minor": 2
}
