{
 "cells": [
  {
   "cell_type": "code",
   "execution_count": 30,
   "metadata": {
    "collapsed": true
   },
   "outputs": [],
   "source": [
    "import requests\n",
    "#from lxml import etree, html\n",
    "import re\n",
    "from bs4 import BeautifulSoup"
   ]
  },
  {
   "cell_type": "code",
   "execution_count": 85,
   "metadata": {
    "collapsed": true
   },
   "outputs": [],
   "source": [
    "url = \"https://www.nytimes.com/content/help/rights/privacy/policy/privacy-policy.html\"\n",
    "page = requests.get(url)\n",
    "content = BeautifulSoup(page.content,'html.parser')"
   ]
  },
  {
   "cell_type": "code",
   "execution_count": 86,
   "metadata": {
    "collapsed": true
   },
   "outputs": [],
   "source": [
    "pars = [p.prettify() for p in content.find_all('p')]\n",
    "pars = [p.replace('\\n','') for p in pars] #Remove new lines"
   ]
  },
  {
   "cell_type": "code",
   "execution_count": 87,
   "metadata": {},
   "outputs": [
    {
     "data": {
      "text/plain": [
       "['<p> <nyt_displaydate> </nyt_displaydate></p>',\n",
       " '<p> <em>  Last Updated on May 18, 2017 </em></p>',\n",
       " '<p> This Privacy Policy discloses the privacy practices for The New York Times newspaper and NYTimes.com (including international.nytimes.com, the online edition of The International New York Times), <a href=\"http://homedelivery.nytimes.com/HDS/HDSHome.do?mode=HDSHome\">  The New York Times Home Delivery </a> website, <a href=\"http://nytneediestcases.com\">  The New York Times Neediest Cases Fund </a> , <a href=\"http://www.nytstore.com/\" title=\"Welcome to The New York Times Store - Rare and Newsworthy Items\">  The New York Times Store </a> , <a href=\"http://www.nytimes.com/times-journeys/\">  Times Journeys </a> and <a href=\"http://learning.blogs.nytimes.com/\" title=\"The Learning Network - The Learning Network Blog - NYTimes.com\">  The New York Times Learning Network </a> , our email newsletters and other applications owned and operated by The New York Times Company (collectively referred to as the “NYT Services”), and to any services that display this notice. For the purposes of this Privacy Policy, unless otherwise noted, all references to \"The New York Times\" include NYTimes.com and The New York Times newspaper.</p>',\n",
       " '<p> The New York Times Replica Edition, maintained by PressReader, is governed by its own <a href=\"https://care.pressreader.com/hc/en-us/articles/205818089-Privacy-Policy\" title=\"The New York Times - Replica Edition\">  Privacy Policy </a> .</p>',\n",
       " '<p> The NYT Services may contain links to other websites for your convenience and information. We are not responsible for the privacy practices or the content of those sites.</p>',\n",
       " '<p> This Privacy Policy covers:</p>',\n",
       " '<p> <a id=\"truste\" name=\"truste\"> </a> <br/> <strong>  TRUSTe </strong> :\\xa0If you have an unresolved privacy or data use concern that we have not addressed satisfactorily, please contact TRUSTe at <a href=\"https://feedback-form.truste.com/watchdog/request\">  https://feedback-form.truste.com/watchdog/request </a> .</p>',\n",
       " '<p> The TRUSTe program covers only information that is collected through the NYTimes.com website. The TRUSTe program does not cover the mobile application or information that may be collected through software downloaded from this site.\\xa0In order to view our relationship with TRUSTe please visit the validation page visible by clicking on the TRUSTe Seal.</p>',\n",
       " '<p> The information gathered when you interact with the NYT Services falls into two categories: 1) Personal information, which includes personal information you supply when you subscribe, order, complete a survey, register for one of our sites, enter a contest or provide your email address and 2) Non-personal information collected through technology, which includes tracking information collected by us as well as third parties.</p>',\n",
       " '<p> <em>  <strong>   Personal Information That You Give Us Or Ask a Third Party to Share with Us  </strong> </em></p>',\n",
       " '<p> <strong>  Registration Information  <br/> </strong></p>',\n",
       " '<p> Registration for the NYT Services may require that you supply certain personal information, including a unique email address and demographic information (ZIP code, age, sex, household income, job industry and job title) to register.</p>',\n",
       " '<p> You may register or enhance your profile by linking your Facebook or Google accounts on NYTimes.com. By doing this, you are asking them to send us certain information from those social media accounts, and you are authorizing us to collect, store, and use what they send us in accordance with this Privacy Policy.</p>',\n",
       " '<p> Social media registration features may collect your IP address, the page you are visiting on our site, and may set a cookie to enable the feature to function properly. Social media features and widgets are either hosted by a third party or hosted directly on our web site.</p>',\n",
       " '<p> You can disassociate your NYTimes.com registration from third-party accounts any time. For more detail, please see our <a href=\"http://www.nytimes.com/content/help/site/socialmedia/social-media.html#social-fb-howto-disconnect\">  Social Media FAQ </a> .</p>',\n",
       " '<p> <strong>  Billing and Credit Card Information </strong></p>',\n",
       " '<p> To enable payment and donations via the NYT Services, we collect and store name, address, telephone number, email address, credit card information and other billing information. This information will only be shared with third parties who help to complete the purchase transaction. Examples of this include fulfilling orders and processing credit card payments.</p>',\n",
       " '<p> <strong>  User Generated Content and Public Activities (Including Comments and Reader Reviews) </strong></p>',\n",
       " '<p> We offer you opportunities to engage in public activities on NYTimes.com and other NYT Services. \"Public activities\" are any actions you take on NYTimes.com that are designed to be visible to other users, including comments, recommendations, reader reviews, ratings or any other items that you submit. Any information you disclose in your public activities, along with your screen name or ID, or any image or photo, becomes public and may be used by The New York Times for online and offline promotional or commercial uses in any and all media. If you choose to engage in public activities, you should be aware that any personal information you submit can be read, collected and used by other users of these areas. We are not responsible for the personal information you choose to submit in the course of your public activities and we have no responsibility to publish, take down, remove or edit any of your public activities or submissions. For more information, see the <a href=\"http://www.nytimes.com/content/help/site/usercontent/usercontent.html\">  Comments FAQ </a> and read the Forums, Discussions and User Generated Content section of the <a href=\"http://www.nytimes.com/ref/membercenter/help/agree.html#discussions\">  Terms of Service </a> .</p>',\n",
       " '<p> Public activities may be included in our RSS feeds, APIs and other distribution formats. As a result, your public activities may appear on other websites, blogs, or feeds. Keep in mind that we are not responsible for any personal information you choose to make public via your public activities, and you agree that such sharing will be deemed to have been done by you, not The New York Times. <a href=\"http://www.nytimes.com/content/help/site/usercontent/usercontent.html\">  Please see our Comments FAQ </a> for additional information.</p>',\n",
       " '<p> When you share or recommend links to content on a third-party platform (such as Facebook, Google+ and Twitter), that action and any information you share will be covered by their privacy policy.</p>',\n",
       " '<p> <strong>  Contests, Sweepstakes and Special Offers </strong></p>',\n",
       " '<p> The New York Times collects personal information from you when you participate in sweepstakes, contests or special offers. If this information is also being collected by a third party other than The New York Times, we will notify you at the same time. If you do not want any personal information shared, you should not participate in the sweepstakes, contest or special offer.</p>',\n",
       " '<p> <a id=\"lab\" name=\"lab\"> </a> <strong>  Reader Surveys, Reader Panels and Market Research </strong></p>',\n",
       " '<p> The New York Times may collect personal information from you in connection with voluntary surveys conducted via the NYT Services. Data may be collected through the NYT Services, on the phone or through the mail. The information you provide may be shared, but only in the aggregate, with advertisers and partners unless we notify you otherwise at the time of collection.</p>',\n",
       " '<p> Members of our Reader Panels agree to participate in surveys, polls or discussions about their readership of The New York Times, their household/personal characteristics and their purchase behavior. Our panels are currently administered by <a href=\"http://www.nybeta.com/\">  Beta Research </a> .</p>',\n",
       " '<p> <strong>  Conferences and Live Events  <br/> </strong></p>',\n",
       " '<p> We often receive information about attendees to our live events from sign-in and registration lists. We may share this information with event or promotion\\xa0sponsors, in which case we will notify you when we collect the information.</p>',\n",
       " '<p> <em>  <strong>   Non-Personal Information Collected Using Technology  </strong> </em></p>',\n",
       " '<p> <strong>  Information Collected by Us Using Technology </strong></p>',\n",
       " '<p> We use various Internet technologies to manage the NYT Services and track use of the Services. Non-personal information that we collect using these technologies may be combined with other information about you.</p>',\n",
       " '<p> <strong>  Device Information. </strong> We may collect non-personal information about the computer, mobile device or other device you use to access the NYT Services, such as IP address, geolocation information, unique device identifiers, browser type, browser language and other transactional information.</p>',\n",
       " '<p> <strong>  Cookies, Beacons, Local Storage and Other Similar Technologies. </strong> We use \"cookies,\" Web beacons, tags and scripts, and other similar technologies including local storage objects such as HTML5. These technologies allow us to manage access to and use of the Services, recognize you and provide personalization, and help us understand how people use the NYT Services. You will not be able to access certain areas of our websites, including NYTimes.com, if your computer does not accept cookies from us. We do not respond to browser-based \"do not track\" signals. For more detailed information about our use of cookies and local storage, and how to manage them, see <a href=\"http://www.nytimes.com/content/help/site/cookies/cookies.html\">  Frequently Asked Questions About Cookies and Similar Technologies in our Help section. </a></p>',\n",
       " '<p> We may transmit non-personally identifiable website usage information to third parties in order to show you advertising for The New York Times when you visit other sites. For more information about our third-party ad server, or to learn your choices about not having this non-personal information used to target ads to you, please <a href=\"http://www.google.com/privacy/ads/\">  click here </a> .</p>',\n",
       " '<p> <strong>  Local Storage Objects </strong></p>',\n",
       " '<p> We may use Local Storage Objects (LSOs) such as HTML5 to store content information and preferences. Third parties with whom we partner to provide certain features on our site or to display advertising based upon your Web browsing activity use LSOs such as HTML 5 or Flash to collect and store information.</p>',\n",
       " '<p> Various browsers may offer their own management tools for removing HTML5 LSOs. To manage Flash LSOs please click here:</p>',\n",
       " '<p> <a>  http://www.macromedia.com/support/documentation/en/flashplayer/help/settings_manager07.html </a></p>',\n",
       " '<p> <strong>  Analytics, Log Files and Reading History </strong></p>',\n",
       " '<p> As is true of most web sites, we gather certain information automatically and store it in log files. This information may include Internet protocol (IP) addresses (the region or general location where your computer or device is accessing the Internet), browser type, operating system and other usage information about the use of the NYT Services, including a history of the pages you view.</p>',\n",
       " '<p> We may combine this automatically collected log information with other information we collect about you. We do this to improve services we offer you, including customized Recommendations, advertising and currency display, to improve marketing, and to track access and use of the NYT Services across the devices that you use to access the NYT Services.</p>',\n",
       " '<p> For more information on the Recommendations feature, please read the <a href=\"http://www.nytimes.com/content/help/extras/recommendations/recommendations.html\">  Recommendations FAQ </a> .</p>',\n",
       " '<p> We have hired third parties to provide us information, reports and analysis about the usage, browsing patterns of our users. They may independently record the type of device and operating system you are using, general location information, as well as events that occur within our apps, such as how often you use our apps.</p>',\n",
       " '<p> <strong>  Location Information. </strong> Some of our mobile applications can deliver content based on your current location if you choose to enable that feature of the app. If you enable the location-based feature, your current location will be stored locally on your device, which will then be used by the app. If you elect to have a location-based search saved to your history, we will store that information on our servers. If you do not enable the location-based service, or if an app does not have that feature, the app will not transmit to us, and we will not collect or store, location information.</p>',\n",
       " \"<p> The ads in our apps are not targeted to you based on your current GPS location, but they may be targeted to you based on your ZIP code or device's IP address.</p>\",\n",
       " '<p id=\"pp\"> <strong>  Third Parties </strong></p>',\n",
       " '<p> Some of the services and advertisements included in the NYT Services, including on NYTimes.com and within our mobile apps, are delivered or served by third-party companies, which may collect information about your use of the NYT Services.</p>',\n",
       " '<p> These companies may place or recognize cookies, Web beacons or other technology to track certain non-personal information about our website users. For example, in the course of serving certain advertisements, an advertiser may place or recognize a unique cookie on your browser in order to collect certain information about your use of the NYT Services. For another example, an advertiser or ad server may also be able to collect your device’s unique identifier in the course of serving an ad. In many cases, this information could be used to show you ads on other websites based on your interests.</p>',\n",
       " \"<p> We do not have access to, nor control over, these third parties' use of cookies or other tracking technologies or how they may be used.</p>\",\n",
       " '<p> Please <a href=\"http://www.nytimes.com/ref/membercenter/help/privacyinformation2.html\">  click here </a> to see a list of third parties that may be using cookies to serve advertising on our websites or in our apps. For example, we use Google to serve advertisements onto the NYT Services, which use the Google Doubleclick cookie, and in some cases, a unique device identifier, to show you ads based on your visit to NYTimes.com and other sites on the Internet. You may opt out of the use of the Google Doubleclick cookie by visiting the <a href=\"http://www.google.com/ads/preferences\">  Google ad and content network privacy policy </a> .</p>',\n",
       " '<p> You have choices about the collection of information by third parties on our website:</p>',\n",
       " '<p> 1) If you would like more about your option not to accept advertiser cookies, please <a href=\"http://www.networkadvertising.org/consumer/opt_out.asp\">  click here </a> .</p>',\n",
       " '<p> 2) If you would like to opt-out of having interest-based ad targeting, <a href=\"http://www.aboutads.info/choices/\">  click here </a> .</p>',\n",
       " '<p> Your access to our websites should not be affected if you do not accept cookies served by third parties.</p>',\n",
       " '<p> <strong>  Provide the Services You Request </strong></p>',\n",
       " '<p> We use the information we gather about you to enable your use of the NYT Services and fulfill your requests for certain products and services, such as sending out electronic newsletters and enabling you to participate in and renew paid services, polls, contests and message boards.</p>',\n",
       " '<p> <strong>  Statistical Analysis </strong></p>',\n",
       " '<p> We perform statistical, demographic and marketing analyses of users of the NYT Services, and their subscribing and purchasing patterns, for product development purposes and to generally inform advertisers about the nature of our subscriber base. We use this information for analysis purposes, including analysis to improve customer relationships.</p>',\n",
       " '<p> <strong>  Customizing Your Experience </strong></p>',\n",
       " '<p> We use the information that we collect to allow advertising to be targeted to the users for whom such advertising is most pertinent. We also use this information to customize certain features of the NYT Services to provide you with an enhanced experienced based on the type of device you are using to access the NYT Services, and in certain cases, provide you with requested services.</p>',\n",
       " '<p> <strong>  Relevant Advertising </strong></p>',\n",
       " \"<p> We may use demographic and preference information to allow advertising on the NYT Service to be targeted to the users for whom they are most pertinent. This means users see advertising that is most likely to interest them, and advertisers send their messages to people who are most likely to be receptive, improving both the viewer's experience and the effectiveness of the ads. We disclose information to third parties only in aggregate or de-identified form.</p>\",\n",
       " '<p> <strong>  Email Newsletters </strong></p>',\n",
       " '<p> The New York Times will periodically send you email newsletters or promotional email about services offered by The New York Times and its advertisers. For details about New York Times email, please see the section labeled \" <a href=\"#d\">  What Is Our Email Policy? </a> \"</p>',\n",
       " '<p> <strong>  Within The New York Times </strong></p>',\n",
       " '<p> If you have registered to use the NYT Services, we will not sell, rent, swap or authorize any third party to use your email address without your permission.</p>',\n",
       " '<p> In the future, we may sell, buy, merge or partner with other companies or businesses. In such transactions, we may include your information among the transferred assets.</p>',\n",
       " '<p> <strong>  Third Parties </strong></p>',\n",
       " '<p> We also share information about our audience in aggregate or de-identified form. Nothing in this Privacy Policy is intended to restrict our use or sharing of aggregated or de-identified information in any way.</p>',\n",
       " '<p> If you are a print subscriber, we may exchange or rent your name and mailing address (but not your email address) and certain other information, such as when you first subscribed to The New York Times with other reputable companies that offer marketing information or products through direct mail. If you prefer that we do not share this information, you may opt-out by emailing us at <a href=\"mailto:opt-out@nytimes.com?subject=Opt-out\">  opt-out@nytimes.com </a> , or write to us at Customer Care, P.O. Box 8041 Davenport IA 52808-8041. Please include your account number and phone number in the body of your email or letter, and include \"Opt-out\" in the subject line.</p>',\n",
       " '<p> We may share information about attendees to our live events with sponsors or other third parties. If so, we will notify you when you provide us the information.</p>',\n",
       " '<p> <strong>  Service Providers </strong></p>',\n",
       " '<p> We contract with other companies to provide services on our behalf, including credit-card and billing processing, ad serving, shipping, email distribution, list processing and analytics or promotions management. We provide these companies only with the information they need to perform their services. These service providers are restricted from using personal information in any way other than to provide services for The New York Times, and they may not share, resell or use the data for their own direct marketing purposes.</p>',\n",
       " '<p> We reserve the right to disclose your opt-out information to third parties so they can suppress your name from future solicitations, in accordance with applicable laws. We may occasionally release personal information as required by law, for example, to comply with a court order or subpoena. (For more information, see the \"Compliance with Legal Process\" section of this policy.)</p>',\n",
       " '<p> <strong>  The New York Times complies with the federal CAN-SPAM Act of 2003. </strong> We will not send you marketing messages if you have opted out. You can choose not to receive messages in the future by either (1) following the \"unsubscribe\" instructions located near the bottom of each email, or (2) you can opt-out here. We will not share, sell, rent, swap or authorize any third party to use your email address for commercial purposes without your permission. If you feel you have received an email from us in error, please contact <a href=\"mailto:privacy@nytimes.com\">  privacy@nytimes.com </a> .</p>',\n",
       " '<p> <strong>  Email Newsletters. </strong> The New York Times offers several email newsletters. If you no longer wish to receive a specific newsletter, follow the \"unsubscribe\" instructions located near the bottom of each newsletter. To manage your newsletter preferences, please <a href=\"http://www.nytimes.com/mem/email.html\">  click here </a> .</p>',\n",
       " '<p> <strong>  Survey Email. </strong> We may invite you to participate in user surveys asking for feedback on NYTimes.com and existing or prospective products and services, as well as information to better understand our users. User surveys greatly help us to improve the NYT Services, and any information we obtain in such surveys will not be shared with third parties, except in aggregate form.</p>',\n",
       " '<p> <strong>  Emails From You. </strong> If you send us an email, we will use your email address to respond directly to your questions or comments.</p>',\n",
       " '<p> <strong>  Email This Article Feature. </strong> Addresses you provide in the “Email” share feature may be saved for your convenience for future articles you may wish to email; but they are not used for any other purpose, and will not be shared with any third parties.</p>',\n",
       " '<p> <strong>  The New York Times Home Delivery Web Account. </strong> You may update and/or edit your Home Delivery account information online at the Home Delivery website by clicking on the link for <a href=\"http://homedelivery.nytimes.com/HDS/HDSHome.do?mode=HDSHome\">  Update Account </a> . Should you require assistance, please call our toll free number, 1-800-NYTIMES. We will respond to inquiries regarding deletion of data within a reasonable timeframe.</p>',\n",
       " '<p> <strong>  Manage Your NYTimes.com Account in the My Account Area. </strong> You may review and update your NYTimes.com membership or account information and access your transaction history in the My Account area.\\xa0We will respond to inquiries regarding deletion of data within a reasonable timeframe.</p>',\n",
       " '<p> <strong>  Manage Your New York Times Events Account. </strong> Events include TimesTalks, Great Read in the Park, Arts and Leisure Weekend, Sunday with The Magazine and The New York Times Travel Show. To subscribe or unsubscribe from The New York Times Events email newsletter, please visit <a href=\"http://nytimes.com/events\">  www.nytimes.com/events </a> . Enter your email address in the field provided, select \"unsubscribe\" and click \"submit.\"</p>',\n",
       " '<p> <strong>  Data Retention. </strong> We will retain your information for at least as long as your account is active, as needed to provide you services or as necessary to comply with our legal obligations, resolve disputes, and enforce our agreements. As a matter of course, we will delete personally identifiable information associated with accounts that have been inactive for at least 15 years.</p>',\n",
       " '<p> If, at any time, you prefer not to receive email marketing information from us, simply follow the unsubscribe options at the bottom of each email.</p>',\n",
       " '<p> If you experience difficulty with the unsubscribe process, feel free to contact us at <a href=\"mailto:feedback@nytimes.com\">  feedback@nytimes.com </a> and provide your email address along with the name of the newsletter from which you would like to unsubscribe.</p>',\n",
       " '<p> <strong>  Mail or Telephone Promotions </strong></p>',\n",
       " '<p> If, at any time, you prefer not to receive mail or telephone solicitations originated by The New York Times Home Delivery Department, or if you prefer that we do not share this information with third parties for marketing purposes, please email us at <a href=\"mailto:opt-out@nytimes.com?subject=Opt-out\">  opt-out@nytimes.com </a> or write to us at Customer Care, P.O. Box 8041, Davenport, IA 52808-8041. Please include your account number and phone number in the body of your email or letter, and put \"Opt-out\" in the subject line.</p>',\n",
       " '<p> <strong>  Use of Third Party Personal Information </strong></p>',\n",
       " '<p> If you choose to use \"email this article\" or give a Gift subscription, we require the recipient’s name and email address.\\xa0We will automatically send them a one-time email about the service. The New York Times does not store this information.</p>',\n",
       " '<p> To prevent unauthorized access, maintain data accuracy and ensure the appropriate use of information, we have put in place commercially reasonable physical, technical and administrative controls to protect the information. Please note that no method of transmission over the Internet, or method of electronic storage, is 100% secure.</p>',\n",
       " '<p> <strong>  Compliance With Legal Process  <br/> </strong></p>',\n",
       " '<p> We may access, preserve and disclose personal information if we are required to do so by law or we have a good faith belief that such action is necessary to (1) comply with the law or with legal process; (2) protect and defend our rights and property; (3) protect against misuse or unauthorized use of the NYT Services; or (4) protect the personal safety or property of our users or the public (among other things, this means that if you provide false information or attempt to pose as someone else, information about you may be disclosed as part of any investigation into your actions).</p>',\n",
       " '<p> <strong>  <a id=\"KidsPrivacy\" name=\"KidsPrivacy\">  </a>  Children\\'s Guidelines </strong></p>',\n",
       " '<p> <strong>  COPPA Compliance. </strong> The New York Times does not knowingly collect or store any personal information about children under the age of 13.</p>',\n",
       " '<p> <strong>  The Learning Network. </strong> The Learning Network is a site for teachers, students and parents that features daily free content for students outside of the New York Times digital subscription service. It does not require registration. Students 13 and older are invited to post comments on any open posts on the site in accordance with New York Times Commenting practice. Though an email address must be provided in order to post a comment, it is not shared or sold to third parties, and does not appear publicly on the blog. To review or remove the optional email address (personal information collected), please use <a href=\"http://www.nytimes.com/learning/general/feedback/index.html\">  this form </a> to contact the Learning Network.</p>',\n",
       " '<p> For any questions concerning The Learning Network, please contact Katherine Schulten, NYTimes.com, 620 Eighth Avenue, 2nd floor, New York, NY 10018. Telephone: (212) 556-8391.</p>',\n",
       " '<p> <strong>  \\ufeffInternational Transfers. </strong> The New York Times is headquartered in the United States. The information you submit to us or that we obtain as a result of your use of the Services may be collected in your country and subsequently transferred to the United States or to another country so that we may provide you the Services.</p>',\n",
       " '<p> U.S. law and the laws of other countries where we may store and process your information may offer different levels of protection for information than may be available in your country. By using the Services, you consent to the collection, international transfer, storage, and processing of your information.</p>',\n",
       " '<p> <strong>  <a id=\"caliPrivacy\" name=\"caliPrivacy\">  </a>  Your California Privacy Rights </strong></p>',\n",
       " '<p> Under the California “Shine The Light” law, California residents may opt-out of the NYT’s disclosure of personal information to third parties for their direct marketing purposes. As detailed above, you may choose to opt-out of the sharing of your personal information with third parties for marketing purposes at any time by submitting a request in writing to Customer Care,\\xa0P.O. Box 8041, Davenport, IA 52808-8041 or by emailing us at <a href=\"mailto:opt-out@nytimes.com?subject=Opt-out\">  opt-out@nytimes.com </a> . It is important to note that this opt-out does not prohibit disclosures made for non-marketing purposes.</p>',\n",
       " '<p> <strong>  <a id=\"j\" name=\"j\">  </a>  Changes to This Policy </strong></p>',\n",
       " '<p> We evaluate this privacy policy periodically in light of changing business practices, technology and legal requirements. As a result, it is updated\\xa0from time to time. Any such changes will be posted on this page. If we make a significant or material change in the way we use or share your personal information, you will be notified via email and/or prominent notice within the Services at least 30 days prior to the changes taking effect.</p>']"
      ]
     },
     "execution_count": 87,
     "metadata": {},
     "output_type": "execute_result"
    }
   ],
   "source": [
    "pars"
   ]
  },
  {
   "cell_type": "code",
   "execution_count": 73,
   "metadata": {},
   "outputs": [
    {
     "data": {
      "text/plain": [
       "'med.net'"
      ]
     },
     "execution_count": 73,
     "metadata": {},
     "output_type": "execute_result"
    }
   ],
   "source": [
    "#Parse out the URL\n",
    "url = 'http://med.net/this/that?thisthat/something.html'\n",
    "'.'.join(url.split('//')[-1].split('/')[0].split('.')[-2:])\n",
    "# >>> url.split(\"//\")[-1].split(\"/\")[0]\n",
    "# 'stackoverflow.com'\n",
    "# >>> url = \"stackoverflow.com/questions/9626535/get-domain-name-from-url\"\n",
    "# >>> url.split(\"//\")[-1].split(\"/\")[0]\n",
    "# 'stackoverflow.com'"
   ]
  },
  {
   "cell_type": "markdown",
   "metadata": {},
   "source": [
    "## Define a new url segmenter to do all this."
   ]
  },
  {
   "cell_type": "code",
   "execution_count": 101,
   "metadata": {
    "collapsed": true
   },
   "outputs": [],
   "source": [
    "import requests\n",
    "from bs4 import BeautifulSoup\n",
    "\n",
    "def url_input_parser(url):\n",
    "    \"\"\"\n",
    "    Input is url as a string. Parses body text and returns\n",
    "    string of all paragraph elements in doc.\n",
    "    Secondarily, searches the input url for its domain and returns\n",
    "    domain in the form 'google.com'.\n",
    "    \"\"\"\n",
    "    \n",
    "    # Request URL\n",
    "    page = requests.get(url)\n",
    "    \n",
    "    # TODO\n",
    "    # Check that we got a good response and throw an error if not\n",
    "    \n",
    "    content = BeautifulSoup(page.content, 'html.parser')\n",
    "    \n",
    "    # Parse URL paragraphs\n",
    "    pars = [p.prettify() for p in content.find_all('p')]\n",
    "    pars = '\\n'.join(pars)\n",
    "\n",
    "    # Parse domain\n",
    "    domain = '.'.join(url.split('//')[-1].split('/')[0].split('.')[-2:])\n",
    "    return pars, domain"
   ]
  },
  {
   "cell_type": "code",
   "execution_count": 102,
   "metadata": {},
   "outputs": [
    {
     "name": "stdout",
     "output_type": "stream",
     "text": [
      "facebook.com\n",
      "<p>\n",
      " Please enable JavaScript on your browser or upgrade to a JavaScript-capable browser to register for Facebook.\n",
      "</p>\n",
      "<p class=\"_58mv\">\n",
      " By clicking Create Account, you agree to our\n",
      " <a href=\"/legal/terms\" id=\"terms-link\" rel=\"nofollow\" target=\"_blank\">\n",
      "  Terms\n",
      " </a>\n",
      " and that you have read our\n",
      " <a href=\"/about/privacy\" id=\"privacy-link\" rel=\"nofollow\" target=\"_blank\">\n",
      "  Data Policy\n",
      " </a>\n",
      " , including our\n",
      " <a href=\"/policies/cookies/\" id=\"cookie-use-link\" rel=\"nofollow\" target=\"_blank\">\n",
      "  Cookie Use\n",
      " </a>\n",
      " . You may receive SMS Notifications from Facebook and can opt out at any time.\n",
      "</p>\n"
     ]
    }
   ],
   "source": [
    "testurl = 'http://www.facebook.com'\n",
    "doc, domain = url_input_parser(testurl)\n",
    "print(domain)\n",
    "print(doc)"
   ]
  },
  {
   "cell_type": "markdown",
   "metadata": {
    "collapsed": true
   },
   "source": [
    "## Parsing the results"
   ]
  },
  {
   "cell_type": "code",
   "execution_count": 103,
   "metadata": {
    "collapsed": true
   },
   "outputs": [],
   "source": [
    "def text_paragraph_segmenter(doc):\n",
    "    \"\"\"\n",
    "    input: doc as string\n",
    "    output: list of paragraphs with blank lines removed\n",
    "    \"\"\"\n",
    "\n",
    "    lines = doc.split('\\n')\n",
    "    return [line for line in lines if line.strip() != '']"
   ]
  },
  {
   "cell_type": "code",
   "execution_count": 116,
   "metadata": {},
   "outputs": [
    {
     "data": {
      "text/plain": [
       "['<p>',\n",
       " ' Please enable JavaScript on your browser or upgrade to a JavaScript-capable browser to register for Facebook.',\n",
       " '</p>',\n",
       " '<p class=\"_58mv\">',\n",
       " ' By clicking Create Account, you agree to our',\n",
       " ' <a href=\"/legal/terms\" id=\"terms-link\" rel=\"nofollow\" target=\"_blank\">',\n",
       " '  Terms',\n",
       " ' </a>',\n",
       " ' and that you have read our',\n",
       " ' <a href=\"/about/privacy\" id=\"privacy-link\" rel=\"nofollow\" target=\"_blank\">',\n",
       " '  Data Policy',\n",
       " ' </a>',\n",
       " ' , including our',\n",
       " ' <a href=\"/policies/cookies/\" id=\"cookie-use-link\" rel=\"nofollow\" target=\"_blank\">',\n",
       " '  Cookie Use',\n",
       " ' </a>',\n",
       " ' . You may receive SMS Notifications from Facebook and can opt out at any time.',\n",
       " '</p>']"
      ]
     },
     "execution_count": 116,
     "metadata": {},
     "output_type": "execute_result"
    }
   ],
   "source": [
    "import pandas as pd\n",
    "segments = text_paragraph_segmenter(doc)\n",
    "pd.DataFrame(segments).to_clipboard(index=False)"
   ]
  },
  {
   "cell_type": "code",
   "execution_count": 119,
   "metadata": {},
   "outputs": [
    {
     "data": {
      "text/plain": [
       "''"
      ]
     },
     "execution_count": 119,
     "metadata": {},
     "output_type": "execute_result"
    }
   ],
   "source": [
    "test=segments[3]\n",
    "re.sub(r'\\<.*\\>','',test)"
   ]
  },
  {
   "cell_type": "markdown",
   "metadata": {},
   "source": [
    "## Pre-processing policy before the good stuff"
   ]
  },
  {
   "cell_type": "code",
   "execution_count": 124,
   "metadata": {
    "collapsed": true
   },
   "outputs": [],
   "source": [
    "from nltk.stem.snowball import SnowballStemmer\n",
    "from nltk.corpus import stopwords\n",
    "import string\n",
    "def text_process_policy(doc):\n",
    "    \"\"\"\n",
    "    Takes in doc as string and returns a processed string\n",
    "    by performing the following steps:\n",
    "    1. remove HTML tags\n",
    "    2. remove punctuation\n",
    "    3. remove stopwords\n",
    "    4. stemming\n",
    "    5. remove any blank lines\n",
    "    \"\"\"\n",
    "    sn = SnowballStemmer(language='english')\n",
    "\n",
    "    s = re.sub(r'\\<.*\\>','',doc)\n",
    "    lst = [char for char in s if char not in string.punctuation]\n",
    "    lst = ''.join(lst)\n",
    "    lst = [word.lower() for word in lst.split() if word.lower() not in stopwords.words('english')]\n",
    "    lst = [sn.stem(word) for word in lst]\n",
    "    return ' '.join(lst)\n"
   ]
  },
  {
   "cell_type": "code",
   "execution_count": 125,
   "metadata": {},
   "outputs": [
    {
     "name": "stdout",
     "output_type": "stream",
     "text": [
      "['', 'pleas enabl javascript browser upgrad javascriptcap browser regist facebook', '', '', 'click creat account agre', '', 'term', '', 'read', '', 'data polici', '', 'includ', '', 'cooki use', '', 'may receiv sms notif facebook opt time', '']\n"
     ]
    }
   ],
   "source": [
    "segments_processed = [text_process_policy(segment) for segment in segments]\n",
    "print(segments_processed)"
   ]
  },
  {
   "cell_type": "code",
   "execution_count": 133,
   "metadata": {},
   "outputs": [
    {
     "data": {
      "text/plain": [
       "['pleas enabl javascript browser upgrad javascriptcap browser regist facebook',\n",
       " 'click creat account agre',\n",
       " 'term',\n",
       " 'read',\n",
       " 'data polici',\n",
       " 'includ',\n",
       " 'cooki use',\n",
       " 'may receiv sms notif facebook opt time']"
      ]
     },
     "execution_count": 133,
     "metadata": {},
     "output_type": "execute_result"
    }
   ],
   "source": [
    "no_blanks = [segment for segment in segments_processed if segment.strip() != '']\n",
    "no_blanks"
   ]
  },
  {
   "cell_type": "code",
   "execution_count": 134,
   "metadata": {
    "scrolled": true
   },
   "outputs": [
    {
     "data": {
      "text/plain": [
       "['pleas enabl javascript browser upgrad javascriptcap browser regist facebook',\n",
       " 'click creat account agre',\n",
       " 'may receiv sms notif facebook opt time']"
      ]
     },
     "execution_count": 134,
     "metadata": {},
     "output_type": "execute_result"
    }
   ],
   "source": [
    "no_shorties = [segment for segment in no_blanks if len(segment) >= 20]\n",
    "no_shorties"
   ]
  },
  {
   "cell_type": "code",
   "execution_count": null,
   "metadata": {
    "collapsed": true
   },
   "outputs": [],
   "source": []
  }
 ],
 "metadata": {
  "kernelspec": {
   "display_name": "Python 3",
   "language": "python",
   "name": "python3"
  },
  "language_info": {
   "codemirror_mode": {
    "name": "ipython",
    "version": 3
   },
   "file_extension": ".py",
   "mimetype": "text/x-python",
   "name": "python",
   "nbconvert_exporter": "python",
   "pygments_lexer": "ipython3",
   "version": "3.6.1"
  }
 },
 "nbformat": 4,
 "nbformat_minor": 2
}
