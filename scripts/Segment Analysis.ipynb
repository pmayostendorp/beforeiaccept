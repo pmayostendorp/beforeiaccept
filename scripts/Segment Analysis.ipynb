{
 "cells": [
  {
   "cell_type": "code",
   "execution_count": 1,
   "metadata": {
    "collapsed": true
   },
   "outputs": [],
   "source": [
    "import pandas as pd\n",
    "import numpy as np\n",
    "import nltk"
   ]
  },
  {
   "cell_type": "code",
   "execution_count": 2,
   "metadata": {
    "collapsed": true
   },
   "outputs": [],
   "source": [
    "# from sqlalchemy import create_engine\n",
    "# from sqlalchemy_utils import database_exists, create_database\n",
    "import psycopg2"
   ]
  },
  {
   "cell_type": "code",
   "execution_count": 3,
   "metadata": {
    "collapsed": true
   },
   "outputs": [],
   "source": [
    "import matplotlib.pyplot as plt\n",
    "import seaborn as sns\n",
    "%matplotlib inline"
   ]
  },
  {
   "cell_type": "code",
   "execution_count": 4,
   "metadata": {
    "collapsed": true
   },
   "outputs": [],
   "source": [
    "#Connect to db\n",
    "dbname = 'beforeiagree_db'\n",
    "username = 'peterostendorp'\n",
    "\n",
    "#Create engine\n",
    "con = psycopg2.connect(database = dbname, user = username)"
   ]
  },
  {
   "cell_type": "code",
   "execution_count": 5,
   "metadata": {
    "collapsed": true
   },
   "outputs": [],
   "source": [
    "sql = \"\"\"\n",
    "SELECT * FROM annotations;\n",
    "\"\"\"\n",
    "annotations = pd.read_sql_query(sql,con)"
   ]
  },
  {
   "cell_type": "markdown",
   "metadata": {},
   "source": [
    "## Policy-level features"
   ]
  },
  {
   "cell_type": "code",
   "execution_count": 15,
   "metadata": {},
   "outputs": [
    {
     "data": {
      "text/plain": [
       "<matplotlib.text.Text at 0x1147c5828>"
      ]
     },
     "execution_count": 15,
     "metadata": {},
     "output_type": "execute_result"
    },
    {
     "data": {
      "image/png": "[encoded data removed]",
      "text/plain": [
       "<matplotlib.figure.Figure at 0x11484a978>"
      ]
     },
     "metadata": {},
     "output_type": "display_data"
    }
   ],
   "source": [
    "#POTENTIAL FEATURE: NUMBER OF SEGMENTS\n",
    "#Distribution of segments across policies\n",
    "annotations.groupby('Policy UID').max()['segment_id'].hist(bins=20)\n",
    "plt.xlabel('n Segments')"
   ]
  },
  {
   "cell_type": "code",
   "execution_count": 11,
   "metadata": {
    "collapsed": true
   },
   "outputs": [],
   "source": [
    "sql = \"\"\"\n",
    "SELECT * FROM sites;\n",
    "\"\"\"\n",
    "sites = pd.read_sql_query(sql,con)"
   ]
  },
  {
   "cell_type": "code",
   "execution_count": 16,
   "metadata": {},
   "outputs": [
    {
     "data": {
      "text/plain": [
       "<matplotlib.text.Text at 0x113d10ef0>"
      ]
     },
     "execution_count": 16,
     "metadata": {},
     "output_type": "execute_result"
    },
    {
     "data": {
      "image/png": "[encoded data removed]",
      "text/plain": [
       "<matplotlib.figure.Figure at 0x113cbd438>"
      ]
     },
     "metadata": {},
     "output_type": "display_data"
    }
   ],
   "source": [
    "#POTENTIAL FEATURE: POLICY LENGTH\n",
    "#Policy lengths based on string character count\n",
    "sites['policy_text'].apply(len).hist(bins = 20)\n",
    "plt.xlabel('Policy Length')"
   ]
  },
  {
   "cell_type": "markdown",
   "metadata": {},
   "source": [
    "## Segment-level features"
   ]
  },
  {
   "cell_type": "code",
   "execution_count": 155,
   "metadata": {
    "collapsed": true
   },
   "outputs": [],
   "source": [
    "sql = \"\"\"\n",
    "SELECT * FROM segments\n",
    "\"\"\"\n",
    "\n",
    "segments = pd.read_sql_query(sql,con)"
   ]
  },
  {
   "cell_type": "code",
   "execution_count": 19,
   "metadata": {},
   "outputs": [
    {
     "name": "stdout",
     "output_type": "stream",
     "text": [
      "<class 'pandas.core.frame.DataFrame'>\n",
      "RangeIndex: 6469 entries, 0 to 6468\n",
      "Data columns (total 3 columns):\n",
      "Policy UID    6469 non-null int64\n",
      "segment_id    6469 non-null int64\n",
      "segments      6469 non-null object\n",
      "dtypes: int64(2), object(1)\n",
      "memory usage: 151.7+ KB\n"
     ]
    }
   ],
   "source": [
    "segments.info()"
   ]
  },
  {
   "cell_type": "code",
   "execution_count": 22,
   "metadata": {},
   "outputs": [
    {
     "data": {
      "text/plain": [
       "<matplotlib.axes._subplots.AxesSubplot at 0x115124898>"
      ]
     },
     "execution_count": 22,
     "metadata": {},
     "output_type": "execute_result"
    },
    {
     "data": {
      "image/png": "[encoded data removed]",
      "text/plain": [
       "<matplotlib.figure.Figure at 0x114ff2ef0>"
      ]
     },
     "metadata": {},
     "output_type": "display_data"
    }
   ],
   "source": [
    "#POTENTIAL FEATURE: CONTAINING SEGMENT LENGTH\n",
    "segments['segments'].apply(len).hist(bins=50)"
   ]
  },
  {
   "cell_type": "markdown",
   "metadata": {},
   "source": [
    "## Messing with bigrams"
   ]
  },
  {
   "cell_type": "code",
   "execution_count": 29,
   "metadata": {},
   "outputs": [
    {
     "name": "stdout",
     "output_type": "stream",
     "text": [
      "('I', 'really')\n",
      "('really', 'like')\n",
      "('like', 'python,')\n",
      "('python,', \"it's\")\n",
      "(\"it's\", 'pretty')\n",
      "('pretty', 'awesome.')\n"
     ]
    }
   ],
   "source": [
    "from nltk.util import bigrams\n",
    "string = \"I really like python, it's pretty awesome.\"\n",
    "string_bigrams = bigrams(string.split())\n",
    "for gram in string_bigrams:\n",
    "    print(gram)"
   ]
  },
  {
   "cell_type": "markdown",
   "metadata": {},
   "source": [
    "## More formal text processing"
   ]
  },
  {
   "cell_type": "code",
   "execution_count": 52,
   "metadata": {
    "collapsed": true
   },
   "outputs": [],
   "source": [
    "from nltk.corpus import stopwords\n",
    "import re"
   ]
  },
  {
   "cell_type": "code",
   "execution_count": 55,
   "metadata": {
    "collapsed": true
   },
   "outputs": [],
   "source": [
    "def text_process(seg):\n",
    "    \"\"\"\n",
    "    1. remove stopwords\n",
    "    2. remove HTML tags\n",
    "    \"\"\"\n",
    "    lst = [word for word in seg.split() if word.lower() not in stopwords.words('english')]\n",
    "    return [word for word in lst if re.search(r'\\<.*\\>',word) is None]"
   ]
  },
  {
   "cell_type": "code",
   "execution_count": 57,
   "metadata": {},
   "outputs": [
    {
     "data": {
      "text/plain": [
       "0    [Privacy, Policy, Effective:, January, 1,, 201...\n",
       "1    [privacy, policy, apply, Sites, maintained, co...\n",
       "2    [visiting, Sites,, accepting, practices, descr...\n",
       "3    [Information, Collected?, collect, two, basic,...\n",
       "4    [Personally, Identifiable, Information, genera...\n",
       "Name: segments, dtype: object"
      ]
     },
     "execution_count": 57,
     "metadata": {},
     "output_type": "execute_result"
    }
   ],
   "source": [
    "segments['segments'].head().apply(text_process)"
   ]
  },
  {
   "cell_type": "markdown",
   "metadata": {},
   "source": [
    "## Setting up a bag of words model"
   ]
  },
  {
   "cell_type": "code",
   "execution_count": 58,
   "metadata": {
    "collapsed": true
   },
   "outputs": [],
   "source": [
    "from sklearn.feature_extraction.text import CountVectorizer"
   ]
  },
  {
   "cell_type": "code",
   "execution_count": 59,
   "metadata": {
    "collapsed": true
   },
   "outputs": [],
   "source": [
    "bow_transformer = CountVectorizer(analyzer=text_process).fit(segments['segments'])"
   ]
  },
  {
   "cell_type": "code",
   "execution_count": 60,
   "metadata": {},
   "outputs": [
    {
     "name": "stdout",
     "output_type": "stream",
     "text": [
      "13980\n"
     ]
    }
   ],
   "source": [
    "#How many words?\n",
    "print(len(bow_transformer.vocabulary_))"
   ]
  },
  {
   "cell_type": "code",
   "execution_count": 67,
   "metadata": {
    "collapsed": true
   },
   "outputs": [],
   "source": [
    "#Now create the transformer for our set of segments\n",
    "segment_bow = bow_transformer.transform(segments['segments'])"
   ]
  },
  {
   "cell_type": "code",
   "execution_count": 68,
   "metadata": {},
   "outputs": [
    {
     "name": "stdout",
     "output_type": "stream",
     "text": [
      "(6469, 13980)\n",
      "213177\n"
     ]
    }
   ],
   "source": [
    "#Some info on our transformer matrix\n",
    "print(segment_bow.shape)\n",
    "print(segment_bow.nnz)"
   ]
  },
  {
   "cell_type": "code",
   "execution_count": 64,
   "metadata": {
    "collapsed": true
   },
   "outputs": [],
   "source": [
    "#Normalized vectors with TF-IDF transformer\n",
    "from sklearn.feature_extraction.text import TfidfTransformer"
   ]
  },
  {
   "cell_type": "code",
   "execution_count": 69,
   "metadata": {
    "collapsed": true
   },
   "outputs": [],
   "source": [
    "tfidf_transformer = TfidfTransformer().fit(segment_bow)"
   ]
  },
  {
   "cell_type": "code",
   "execution_count": 71,
   "metadata": {
    "collapsed": true
   },
   "outputs": [],
   "source": [
    "segments_tfidf = tfidf_transformer.transform(segment_bow)"
   ]
  },
  {
   "cell_type": "markdown",
   "metadata": {},
   "source": [
    "## Creating a simple Naive-Bayes binary classifier\n",
    "First need to develop a binary target. Our categories are multinomial, but we can use a one-hot encoding for target. Let's see what targets we have to choose from."
   ]
  },
  {
   "cell_type": "markdown",
   "metadata": {},
   "source": [
    "**Lots of nonsense dealing with sites not in the original set... maybe I should split this stuff out into another table earlier?**"
   ]
  },
  {
   "cell_type": "code",
   "execution_count": 74,
   "metadata": {},
   "outputs": [
    {
     "data": {
      "text/plain": [
       "array(['Other', 'First Party Collection/Use', 'Data Retention',\n",
       "       'International and Specific Audiences', 'User Choice/Control',\n",
       "       'Third Party Sharing/Collection', 'User Access, Edit and Deletion',\n",
       "       'Policy Change', 'Data Security', 'Do Not Track'], dtype=object)"
      ]
     },
     "execution_count": 74,
     "metadata": {},
     "output_type": "execute_result"
    }
   ],
   "source": [
    "annotations['category_name'].unique()"
   ]
  },
  {
   "cell_type": "code",
   "execution_count": 183,
   "metadata": {
    "collapsed": true
   },
   "outputs": [],
   "source": [
    "#Join category name to segments and determine the mode of each category, concat back onto original segments\n",
    "tmp = segments.join(annotations.set_index(['Policy UID','segment_id'])['category_name'],on=['Policy UID','segment_id'],how='outer')\n",
    "tmp['category_name'] = tmp['category_name'].fillna(value='None')\n",
    "tmp2 = tmp.groupby(by=['Policy UID','segment_id'])['category_name'].agg(lambda x: x.value_counts().index[0])"
   ]
  },
  {
   "cell_type": "code",
   "execution_count": 188,
   "metadata": {
    "collapsed": true
   },
   "outputs": [],
   "source": [
    "segments = segments.join(pd.DataFrame(tmp2),on=['Policy UID','segment_id'],how='outer')"
   ]
  },
  {
   "cell_type": "code",
   "execution_count": 189,
   "metadata": {
    "collapsed": true
   },
   "outputs": [],
   "source": [
    "one_hot_data_retention = lambda s: 1 if s.startswith('Data Retention') else 0"
   ]
  },
  {
   "cell_type": "code",
   "execution_count": 190,
   "metadata": {
    "collapsed": true
   },
   "outputs": [],
   "source": [
    "#Define a new column with one-hot encoding of Data Retention policy for our target\n",
    "segments['data_retention'] = segments['category_name'].apply(one_hot_data_retention)"
   ]
  },
  {
   "cell_type": "code",
   "execution_count": 223,
   "metadata": {
    "collapsed": true
   },
   "outputs": [],
   "source": [
    "#Which sites in the original 115?\n",
    "#df = df[~df['date'].isin(a)]\n",
    "pids_115 = list(sites['Policy UID'][sites['In 115 Set?']])\n",
    "segments = segments[segments['Policy UID'].isin(pids_115)]\n"
   ]
  },
  {
   "cell_type": "markdown",
   "metadata": {},
   "source": [
    "**Here we finally get to building the model**"
   ]
  },
  {
   "cell_type": "code",
   "execution_count": 225,
   "metadata": {
    "collapsed": true
   },
   "outputs": [],
   "source": [
    "from sklearn.naive_bayes import MultinomialNB"
   ]
  },
  {
   "cell_type": "code",
   "execution_count": 226,
   "metadata": {
    "collapsed": true
   },
   "outputs": [],
   "source": [
    "data_retention_model = MultinomialNB().fit(segments_tfidf,segments['data_retention'])"
   ]
  },
  {
   "cell_type": "markdown",
   "metadata": {},
   "source": [
    "Some simple predictions..."
   ]
  },
  {
   "cell_type": "code",
   "execution_count": 232,
   "metadata": {},
   "outputs": [
    {
     "name": "stdout",
     "output_type": "stream",
     "text": [
      "<strong> What Information Is Collected? </strong> <br> <br> We collect two basic types of information from you in conjunction with your use of the Sites: non-personally identifiable information and personally identifiable information. Non-personally identifiable information does not individually identify you, but it may include tracking and usage information about your general location, demographics, use of the Sites and the Internet. Personally identifiable information is any information that can individually identify you and includes, your name, address, phone number, and email address, or non-personally identifiable information that has been linked to such personally identifiable information. <br> <br>\n"
     ]
    }
   ],
   "source": [
    "#Original segment\n",
    "seg4 = segments['segments'][3]\n",
    "print(seg4)"
   ]
  },
  {
   "cell_type": "code",
   "execution_count": 233,
   "metadata": {},
   "outputs": [
    {
     "name": "stdout",
     "output_type": "stream",
     "text": [
      "  (0, 2007)\t1\n",
      "  (0, 2962)\t1\n",
      "  (0, 3030)\t1\n",
      "  (0, 3567)\t1\n",
      "  (0, 3851)\t1\n",
      "  (0, 4488)\t1\n",
      "  (0, 4497)\t1\n",
      "  (0, 5388)\t2\n",
      "  (0, 6057)\t1\n",
      "  (0, 6609)\t1\n",
      "  (0, 6840)\t1\n",
      "  (0, 7341)\t1\n",
      "  (0, 7791)\t1\n",
      "  (0, 8480)\t1\n",
      "  (0, 8925)\t6\n",
      "  (0, 8945)\t2\n",
      "  (0, 9039)\t1\n",
      "  (0, 9045)\t1\n",
      "  (0, 9098)\t2\n",
      "  (0, 9124)\t7\n",
      "  (0, 9140)\t2\n",
      "  (0, 9612)\t1\n",
      "  (0, 9676)\t1\n",
      "  (0, 9868)\t1\n",
      "  (0, 10080)\t1\n",
      "  (0, 10203)\t2\n",
      "  (0, 10262)\t1\n",
      "  (0, 10836)\t2\n",
      "  (0, 10861)\t1\n",
      "  (0, 13173)\t1\n",
      "  (0, 13293)\t1\n",
      "  (0, 13297)\t1\n",
      "  (0, 13430)\t1\n",
      "  (0, 13434)\t2\n",
      "  (0, 13958)\t1\n"
     ]
    }
   ],
   "source": [
    "bow4 = bow_transformer.transform([seg4])\n",
    "print(bow4)"
   ]
  },
  {
   "cell_type": "code",
   "execution_count": 234,
   "metadata": {},
   "outputs": [
    {
     "name": "stdout",
     "output_type": "stream",
     "text": [
      "  (0, 13958)\t0.0937056314045\n",
      "  (0, 13434)\t0.0917158626698\n",
      "  (0, 13430)\t0.104791423416\n",
      "  (0, 13297)\t0.107994290499\n",
      "  (0, 13293)\t0.128014180804\n",
      "  (0, 13173)\t0.113367551928\n",
      "  (0, 10861)\t0.114533479865\n",
      "  (0, 10836)\t0.1609563979\n",
      "  (0, 10262)\t0.110859273134\n",
      "  (0, 10203)\t0.25255635262\n",
      "  (0, 10080)\t0.09107270343\n",
      "  (0, 9868)\t0.0383252335442\n",
      "  (0, 9676)\t0.130691461205\n",
      "  (0, 9612)\t0.121474991438\n",
      "  (0, 9140)\t0.143727799593\n",
      "  (0, 9124)\t0.22961851354\n",
      "  (0, 9098)\t0.327774597958\n",
      "  (0, 9045)\t0.145649473187\n",
      "  (0, 9039)\t0.0933103064611\n",
      "  (0, 8945)\t0.195223785592\n",
      "  (0, 8925)\t0.495761019941\n",
      "  (0, 8480)\t0.112078832109\n",
      "  (0, 7791)\t0.0738722529683\n",
      "  (0, 7341)\t0.185606658225\n",
      "  (0, 6840)\t0.141374931009\n",
      "  (0, 6609)\t0.0610094509147\n",
      "  (0, 6057)\t0.152986309703\n",
      "  (0, 5388)\t0.168502285181\n",
      "  (0, 4497)\t0.185606658225\n",
      "  (0, 4488)\t0.103775361024\n",
      "  (0, 3851)\t0.122301650222\n",
      "  (0, 3567)\t0.174923188421\n",
      "  (0, 3030)\t0.13467395725\n",
      "  (0, 2962)\t0.061740278018\n",
      "  (0, 2007)\t0.197218036919\n"
     ]
    }
   ],
   "source": [
    "tfidf4 = tfidf_transformer.transform(bow4)\n",
    "print(tfidf4)"
   ]
  },
  {
   "cell_type": "code",
   "execution_count": 236,
   "metadata": {},
   "outputs": [
    {
     "data": {
      "text/plain": [
       "0"
      ]
     },
     "execution_count": 236,
     "metadata": {},
     "output_type": "execute_result"
    }
   ],
   "source": [
    "data_retention_model.predict(tfidf4)[0]"
   ]
  },
  {
   "cell_type": "code",
   "execution_count": 237,
   "metadata": {},
   "outputs": [
    {
     "data": {
      "text/plain": [
       "0"
      ]
     },
     "execution_count": 237,
     "metadata": {},
     "output_type": "execute_result"
    }
   ],
   "source": [
    "segments['data_retention'][3]"
   ]
  },
  {
   "cell_type": "markdown",
   "metadata": {},
   "source": [
    "Eureka!!! Now predict for all..."
   ]
  },
  {
   "cell_type": "code",
   "execution_count": 238,
   "metadata": {
    "collapsed": true
   },
   "outputs": [],
   "source": [
    "preds = data_retention_model.predict(segments_tfidf)"
   ]
  },
  {
   "cell_type": "markdown",
   "metadata": {},
   "source": [
    "## Train-test split for the data"
   ]
  },
  {
   "cell_type": "code",
   "execution_count": 241,
   "metadata": {
    "collapsed": true
   },
   "outputs": [],
   "source": [
    "from sklearn.model_selection import train_test_split"
   ]
  },
  {
   "cell_type": "code",
   "execution_count": 242,
   "metadata": {
    "collapsed": true
   },
   "outputs": [],
   "source": [
    "seg_train,seg_test,cat_train,cat_test = train_test_split(segments['segments'],segments['data_retention'],\n",
    "                                                         test_size = 0.2, random_state = 101)"
   ]
  },
  {
   "cell_type": "markdown",
   "metadata": {},
   "source": [
    "## Creating a pipeline for the whole damn thing"
   ]
  },
  {
   "cell_type": "code",
   "execution_count": 239,
   "metadata": {
    "collapsed": true
   },
   "outputs": [],
   "source": [
    "from sklearn.pipeline import Pipeline"
   ]
  },
  {
   "cell_type": "code",
   "execution_count": 243,
   "metadata": {
    "collapsed": true
   },
   "outputs": [],
   "source": [
    "data_retention_pipeline = Pipeline([\n",
    "    ('bow',CountVectorizer(analyzer=text_process)),\n",
    "    ('tfidf',TfidfTransformer()),\n",
    "    ('classifier',MultinomialNB())\n",
    "])"
   ]
  },
  {
   "cell_type": "code",
   "execution_count": 244,
   "metadata": {},
   "outputs": [
    {
     "data": {
      "text/plain": [
       "Pipeline(steps=[('bow', CountVectorizer(analyzer=<function text_process at 0x115111c80>, binary=False,\n",
       "        decode_error='strict', dtype=<class 'numpy.int64'>,\n",
       "        encoding='utf-8', input='content', lowercase=True, max_df=1.0,\n",
       "        max_features=None, min_df=1, ngram_range=(1, 1), preprocessor=None,...f=False, use_idf=True)), ('classifier', MultinomialNB(alpha=1.0, class_prior=None, fit_prior=True))])"
      ]
     },
     "execution_count": 244,
     "metadata": {},
     "output_type": "execute_result"
    }
   ],
   "source": [
    "data_retention_pipeline.fit(seg_train,cat_train)"
   ]
  },
  {
   "cell_type": "code",
   "execution_count": 245,
   "metadata": {
    "collapsed": true
   },
   "outputs": [],
   "source": [
    "preds = data_retention_pipeline.predict(seg_test)"
   ]
  },
  {
   "cell_type": "code",
   "execution_count": 246,
   "metadata": {
    "collapsed": true
   },
   "outputs": [],
   "source": [
    "from sklearn.metrics import classification_report, confusion_matrix"
   ]
  },
  {
   "cell_type": "code",
   "execution_count": 247,
   "metadata": {
    "scrolled": true
   },
   "outputs": [
    {
     "name": "stdout",
     "output_type": "stream",
     "text": [
      "[[1281    0]\n",
      " [  13    0]]\n",
      "             precision    recall  f1-score   support\n",
      "\n",
      "          0       0.99      1.00      0.99      1281\n",
      "          1       0.00      0.00      0.00        13\n",
      "\n",
      "avg / total       0.98      0.99      0.98      1294\n",
      "\n"
     ]
    },
    {
     "name": "stderr",
     "output_type": "stream",
     "text": [
      "/Users/peterostendorp/anaconda/lib/python3.6/site-packages/sklearn/metrics/classification.py:1113: UndefinedMetricWarning: Precision and F-score are ill-defined and being set to 0.0 in labels with no predicted samples.\n",
      "  'precision', 'predicted', average, warn_for)\n"
     ]
    }
   ],
   "source": [
    "print(confusion_matrix(cat_test,preds))\n",
    "print(classification_report(cat_test,preds))"
   ]
  },
  {
   "cell_type": "code",
   "execution_count": null,
   "metadata": {
    "collapsed": true
   },
   "outputs": [],
   "source": []
  }
 ],
 "metadata": {
  "kernelspec": {
   "display_name": "Python 3",
   "language": "python",
   "name": "python3"
  },
  "language_info": {
   "codemirror_mode": {
    "name": "ipython",
    "version": 3
   },
   "file_extension": ".py",
   "mimetype": "text/x-python",
   "name": "python",
   "nbconvert_exporter": "python",
   "pygments_lexer": "ipython3",
   "version": "3.6.1"
  }
 },
 "nbformat": 4,
 "nbformat_minor": 2
}
