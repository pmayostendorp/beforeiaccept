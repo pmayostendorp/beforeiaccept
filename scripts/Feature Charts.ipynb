{
 "cells": [
  {
   "cell_type": "code",
   "execution_count": 18,
   "metadata": {
    "collapsed": true
   },
   "outputs": [],
   "source": [
    "import pandas as pd\n",
    "import numpy as np\n",
    "import matplotlib.pyplot as plt\n",
    "import seaborn as sns\n",
    "%matplotlib inline"
   ]
  },
  {
   "cell_type": "code",
   "execution_count": 19,
   "metadata": {
    "collapsed": true
   },
   "outputs": [],
   "source": [
    "#Establish database connection\n",
    "import psycopg2\n",
    "dbname = 'beforeiagree_db'\n",
    "username = 'peterostendorp'\n",
    "\n",
    "#Create engine\n",
    "con = psycopg2.connect(database = dbname, user = username)"
   ]
  },
  {
   "cell_type": "code",
   "execution_count": 20,
   "metadata": {
    "collapsed": true
   },
   "outputs": [],
   "source": [
    "sql = \"\"\"\n",
    "SELECT * FROM binary_segment_categories;\n",
    "\"\"\"\n",
    "\n",
    "segment_cats = pd.read_sql_query(sql,con)"
   ]
  },
  {
   "cell_type": "code",
   "execution_count": 21,
   "metadata": {
    "collapsed": true
   },
   "outputs": [],
   "source": [
    "sql = \"\"\"\n",
    "SELECT * FROM binary_policy_categories;\n",
    "\"\"\"\n",
    "policy_cats = pd.read_sql_query(sql,con)"
   ]
  },
  {
   "cell_type": "code",
   "execution_count": 22,
   "metadata": {
    "collapsed": true
   },
   "outputs": [],
   "source": [
    "import nltk"
   ]
  },
  {
   "cell_type": "code",
   "execution_count": 23,
   "metadata": {
    "collapsed": true
   },
   "outputs": [],
   "source": [
    "sql = \"\"\"\n",
    "SELECT \"Policy UID\", policy_text FROM sites;\n",
    "\"\"\"\n",
    "policies = pd.read_sql_query(sql,con)"
   ]
  },
  {
   "cell_type": "code",
   "execution_count": 24,
   "metadata": {
    "collapsed": true
   },
   "outputs": [],
   "source": [
    "from nltk.corpus import stopwords\n",
    "import re\n",
    "import string\n",
    "def text_process_policy(doc):\n",
    "    \"\"\"\n",
    "    1. remove punctuation\n",
    "    2. remove stopwords\n",
    "    3. remove HTML tags\n",
    "    4. remove '|||' inserted into corpus documents only\n",
    "    \"\"\"\n",
    "    lst = [word for word in doc.split() if re.search(r'\\<.*\\>',word) is None]\n",
    "    lst = ' '.join(lst)\n",
    "    lst = [char for char in lst if char not in string.punctuation]\n",
    "    lst = ''.join(lst)    \n",
    "    lst = [word for word in lst.split() if word.lower() not in stopwords.words('english')]\n",
    "    lst = [word for word in lst if word.replace('|||','')]\n",
    "    return ' '.join(lst)"
   ]
  },
  {
   "cell_type": "markdown",
   "metadata": {},
   "source": [
    "## Frequency of terms across the whole corpus"
   ]
  },
  {
   "cell_type": "code",
   "execution_count": 25,
   "metadata": {
    "collapsed": true
   },
   "outputs": [],
   "source": [
    "policies = pd.merge(policies,policy_cats,on='Policy UID')"
   ]
  },
  {
   "cell_type": "code",
   "execution_count": 26,
   "metadata": {},
   "outputs": [],
   "source": [
    "#Just grab a few policies to make a point\n",
    "policies = policies.iloc[:10]"
   ]
  },
  {
   "cell_type": "code",
   "execution_count": 27,
   "metadata": {},
   "outputs": [
    {
     "data": {
      "text/plain": [
       "0    Privacy Policy Effective January 1 2015 Atlant...\n",
       "1    IMDb Privacy Notice Updated December 5 2014 se...\n",
       "2    Privacy Policy Last Updated June 10 2015 Priva...\n",
       "3    Vox Media Privacy Policy Updated May 2014 Vox ...\n",
       "4    Vox Media Privacy Policy Updated May 2014 Vox ...\n",
       "5    Vox Media Privacy Policy Updated May 2014 Vox ...\n",
       "6    Vox Media Privacy Policy Updated May 2014 Vox ...\n",
       "7    Vox Media Privacy Policy Updated May 2014 Vox ...\n",
       "8    Vox Media Privacy Policy Updated May 2014 Vox ...\n",
       "9    Vox Media Privacy Policy Updated May 2014 Vox ...\n",
       "Name: policy_text, dtype: object"
      ]
     },
     "execution_count": 27,
     "metadata": {},
     "output_type": "execute_result"
    }
   ],
   "source": [
    "policies['policy_text'].apply(text_process_policy)"
   ]
  },
  {
   "cell_type": "code",
   "execution_count": 28,
   "metadata": {
    "collapsed": true
   },
   "outputs": [],
   "source": [
    "policies['policy_text'] = policies['policy_text'].apply(text_process_policy)"
   ]
  },
  {
   "cell_type": "code",
   "execution_count": 29,
   "metadata": {
    "collapsed": true
   },
   "outputs": [],
   "source": [
    "words = ' '.join(list(policies['policy_text'])).split()"
   ]
  },
  {
   "cell_type": "code",
   "execution_count": 30,
   "metadata": {
    "collapsed": true
   },
   "outputs": [],
   "source": [
    "from nltk.probability import FreqDist"
   ]
  },
  {
   "cell_type": "code",
   "execution_count": 31,
   "metadata": {
    "collapsed": true
   },
   "outputs": [],
   "source": [
    "f = FreqDist(words)"
   ]
  },
  {
   "cell_type": "code",
   "execution_count": 32,
   "metadata": {
    "collapsed": true
   },
   "outputs": [],
   "source": [
    "df = pd.DataFrame(f.most_common(100),columns=['Word','Frequency']).set_index('Word')"
   ]
  },
  {
   "cell_type": "code",
   "execution_count": 33,
   "metadata": {},
   "outputs": [
    {
     "data": {
      "text/html": [
       "<div>\n",
       "<style>\n",
       "    .dataframe thead tr:only-child th {\n",
       "        text-align: right;\n",
       "    }\n",
       "\n",
       "    .dataframe thead th {\n",
       "        text-align: left;\n",
       "    }\n",
       "\n",
       "    .dataframe tbody tr th {\n",
       "        vertical-align: top;\n",
       "    }\n",
       "</style>\n",
       "<table border=\"1\" class=\"dataframe\">\n",
       "  <thead>\n",
       "    <tr style=\"text-align: right;\">\n",
       "      <th></th>\n",
       "      <th>Frequency</th>\n",
       "    </tr>\n",
       "    <tr>\n",
       "      <th>Word</th>\n",
       "      <th></th>\n",
       "    </tr>\n",
       "  </thead>\n",
       "  <tbody>\n",
       "    <tr>\n",
       "      <th>information</th>\n",
       "      <td>464</td>\n",
       "    </tr>\n",
       "    <tr>\n",
       "      <th>may</th>\n",
       "      <td>336</td>\n",
       "    </tr>\n",
       "    <tr>\n",
       "      <th>Services</th>\n",
       "      <td>280</td>\n",
       "    </tr>\n",
       "    <tr>\n",
       "      <th>use</th>\n",
       "      <td>261</td>\n",
       "    </tr>\n",
       "    <tr>\n",
       "      <th>us</th>\n",
       "      <td>249</td>\n",
       "    </tr>\n",
       "  </tbody>\n",
       "</table>\n",
       "</div>"
      ],
      "text/plain": [
       "             Frequency\n",
       "Word                  \n",
       "information        464\n",
       "may                336\n",
       "Services           280\n",
       "use                261\n",
       "us                 249"
      ]
     },
     "execution_count": 33,
     "metadata": {},
     "output_type": "execute_result"
    }
   ],
   "source": [
    "df.head()"
   ]
  },
  {
   "cell_type": "code",
   "execution_count": 45,
   "metadata": {},
   "outputs": [
    {
     "data": {
      "image/png": "[encoded data removed]",
      "text/plain": [
       "<matplotlib.figure.Figure at 0x110bfc7f0>"
      ]
     },
     "metadata": {},
     "output_type": "display_data"
    }
   ],
   "source": [
    "#Word frequency stuff\n",
    "sns.set_style('whitegrid')\n",
    "sns.set_context('talk')\n",
    "df.iloc[:10].plot.barh(figsize=(6,10))\n",
    "plt.title('Top 10 Privacy Policy Terms in General Policy Texts')\n",
    "plt.xlabel('')\n",
    "plt.ylabel('')\n",
    "plt.savefig('../figures/top10terms.png')"
   ]
  },
  {
   "cell_type": "markdown",
   "metadata": {},
   "source": [
    "## Frequency of terms just across \"Data Security\" annotations"
   ]
  },
  {
   "cell_type": "code",
   "execution_count": 46,
   "metadata": {
    "collapsed": true
   },
   "outputs": [],
   "source": [
    "#Get segments annotated as 'Data security'\n",
    "sql = \"\"\"\n",
    "SELECT * FROM segments;\n",
    "\"\"\"\n",
    "segments = pd.read_sql_query(sql,con)\n",
    "\n",
    "sql = \"\"\"\n",
    "SELECT * FROM annotations;\n",
    "\"\"\"\n",
    "annotations = pd.read_sql_query(sql,con)"
   ]
  },
  {
   "cell_type": "code",
   "execution_count": 47,
   "metadata": {},
   "outputs": [
    {
     "data": {
      "text/html": [
       "<div>\n",
       "<style>\n",
       "    .dataframe thead tr:only-child th {\n",
       "        text-align: right;\n",
       "    }\n",
       "\n",
       "    .dataframe thead th {\n",
       "        text-align: left;\n",
       "    }\n",
       "\n",
       "    .dataframe tbody tr th {\n",
       "        vertical-align: top;\n",
       "    }\n",
       "</style>\n",
       "<table border=\"1\" class=\"dataframe\">\n",
       "  <thead>\n",
       "    <tr style=\"text-align: right;\">\n",
       "      <th></th>\n",
       "      <th>Policy UID</th>\n",
       "      <th>segment_id</th>\n",
       "      <th>segments</th>\n",
       "    </tr>\n",
       "  </thead>\n",
       "  <tbody>\n",
       "    <tr>\n",
       "      <th>0</th>\n",
       "      <td>20</td>\n",
       "      <td>0</td>\n",
       "      <td>&lt;strong&gt; Privacy Policy &lt;/strong&gt; &lt;br&gt; &lt;br&gt; &lt;s...</td>\n",
       "    </tr>\n",
       "    <tr>\n",
       "      <th>1</th>\n",
       "      <td>20</td>\n",
       "      <td>1</td>\n",
       "      <td>This privacy policy does not apply to Sites ma...</td>\n",
       "    </tr>\n",
       "    <tr>\n",
       "      <th>2</th>\n",
       "      <td>20</td>\n",
       "      <td>2</td>\n",
       "      <td>By visiting our Sites, you are accepting the p...</td>\n",
       "    </tr>\n",
       "    <tr>\n",
       "      <th>3</th>\n",
       "      <td>20</td>\n",
       "      <td>3</td>\n",
       "      <td>&lt;strong&gt; What Information Is Collected? &lt;/stro...</td>\n",
       "    </tr>\n",
       "    <tr>\n",
       "      <th>4</th>\n",
       "      <td>20</td>\n",
       "      <td>4</td>\n",
       "      <td>&lt;strong&gt; Personally Identifiable Information &lt;...</td>\n",
       "    </tr>\n",
       "  </tbody>\n",
       "</table>\n",
       "</div>"
      ],
      "text/plain": [
       "   Policy UID  segment_id                                           segments\n",
       "0          20           0  <strong> Privacy Policy </strong> <br> <br> <s...\n",
       "1          20           1  This privacy policy does not apply to Sites ma...\n",
       "2          20           2  By visiting our Sites, you are accepting the p...\n",
       "3          20           3  <strong> What Information Is Collected? </stro...\n",
       "4          20           4  <strong> Personally Identifiable Information <..."
      ]
     },
     "execution_count": 47,
     "metadata": {},
     "output_type": "execute_result"
    }
   ],
   "source": [
    "segments.head()"
   ]
  },
  {
   "cell_type": "code",
   "execution_count": 48,
   "metadata": {},
   "outputs": [
    {
     "data": {
      "text/html": [
       "<div>\n",
       "<style>\n",
       "    .dataframe thead tr:only-child th {\n",
       "        text-align: right;\n",
       "    }\n",
       "\n",
       "    .dataframe thead th {\n",
       "        text-align: left;\n",
       "    }\n",
       "\n",
       "    .dataframe tbody tr th {\n",
       "        vertical-align: top;\n",
       "    }\n",
       "</style>\n",
       "<table border=\"1\" class=\"dataframe\">\n",
       "  <thead>\n",
       "    <tr style=\"text-align: right;\">\n",
       "      <th></th>\n",
       "      <th>Policy UID</th>\n",
       "      <th>annotation_id</th>\n",
       "      <th>batch_id</th>\n",
       "      <th>annotator_id</th>\n",
       "      <th>segment_id</th>\n",
       "      <th>category_name</th>\n",
       "      <th>attributes_value_pairs</th>\n",
       "      <th>date</th>\n",
       "      <th>policy_url</th>\n",
       "    </tr>\n",
       "  </thead>\n",
       "  <tbody>\n",
       "    <tr>\n",
       "      <th>0</th>\n",
       "      <td>1017</td>\n",
       "      <td>20137</td>\n",
       "      <td>test_category_labeling_highlight_fordham_aaaaa</td>\n",
       "      <td>121</td>\n",
       "      <td>0</td>\n",
       "      <td>Other</td>\n",
       "      <td>{\"Other Type\": {\"selectedText\": \"Sci-News.com ...</td>\n",
       "      <td>NaT</td>\n",
       "      <td>http://www.sci-news.com/privacy-policy.html</td>\n",
       "    </tr>\n",
       "    <tr>\n",
       "      <th>1</th>\n",
       "      <td>1017</td>\n",
       "      <td>20324</td>\n",
       "      <td>test_category_labeling_highlight_fordham_aaaaa</td>\n",
       "      <td>121</td>\n",
       "      <td>1</td>\n",
       "      <td>First Party Collection/Use</td>\n",
       "      <td>{\"Collection Mode\": {\"selectedText\": \"nformati...</td>\n",
       "      <td>NaT</td>\n",
       "      <td>http://www.sci-news.com/privacy-policy.html</td>\n",
       "    </tr>\n",
       "    <tr>\n",
       "      <th>2</th>\n",
       "      <td>1017</td>\n",
       "      <td>20325</td>\n",
       "      <td>test_category_labeling_highlight_fordham_aaaaa</td>\n",
       "      <td>121</td>\n",
       "      <td>1</td>\n",
       "      <td>First Party Collection/Use</td>\n",
       "      <td>{\"Collection Mode\": {\"selectedText\": \"nformati...</td>\n",
       "      <td>NaT</td>\n",
       "      <td>http://www.sci-news.com/privacy-policy.html</td>\n",
       "    </tr>\n",
       "    <tr>\n",
       "      <th>3</th>\n",
       "      <td>1017</td>\n",
       "      <td>20326</td>\n",
       "      <td>test_category_labeling_highlight_fordham_aaaaa</td>\n",
       "      <td>121</td>\n",
       "      <td>2</td>\n",
       "      <td>Data Retention</td>\n",
       "      <td>{\"Personal Information Type\": {\"selectedText\":...</td>\n",
       "      <td>NaT</td>\n",
       "      <td>http://www.sci-news.com/privacy-policy.html</td>\n",
       "    </tr>\n",
       "    <tr>\n",
       "      <th>4</th>\n",
       "      <td>1017</td>\n",
       "      <td>20327</td>\n",
       "      <td>test_category_labeling_highlight_fordham_aaaaa</td>\n",
       "      <td>121</td>\n",
       "      <td>3</td>\n",
       "      <td>First Party Collection/Use</td>\n",
       "      <td>{\"Collection Mode\": {\"selectedText\": \"Not sele...</td>\n",
       "      <td>NaT</td>\n",
       "      <td>http://www.sci-news.com/privacy-policy.html</td>\n",
       "    </tr>\n",
       "  </tbody>\n",
       "</table>\n",
       "</div>"
      ],
      "text/plain": [
       "   Policy UID  annotation_id                                        batch_id  \\\n",
       "0        1017          20137  test_category_labeling_highlight_fordham_aaaaa   \n",
       "1        1017          20324  test_category_labeling_highlight_fordham_aaaaa   \n",
       "2        1017          20325  test_category_labeling_highlight_fordham_aaaaa   \n",
       "3        1017          20326  test_category_labeling_highlight_fordham_aaaaa   \n",
       "4        1017          20327  test_category_labeling_highlight_fordham_aaaaa   \n",
       "\n",
       "   annotator_id  segment_id               category_name  \\\n",
       "0           121           0                       Other   \n",
       "1           121           1  First Party Collection/Use   \n",
       "2           121           1  First Party Collection/Use   \n",
       "3           121           2              Data Retention   \n",
       "4           121           3  First Party Collection/Use   \n",
       "\n",
       "                              attributes_value_pairs date  \\\n",
       "0  {\"Other Type\": {\"selectedText\": \"Sci-News.com ...  NaT   \n",
       "1  {\"Collection Mode\": {\"selectedText\": \"nformati...  NaT   \n",
       "2  {\"Collection Mode\": {\"selectedText\": \"nformati...  NaT   \n",
       "3  {\"Personal Information Type\": {\"selectedText\":...  NaT   \n",
       "4  {\"Collection Mode\": {\"selectedText\": \"Not sele...  NaT   \n",
       "\n",
       "                                    policy_url  \n",
       "0  http://www.sci-news.com/privacy-policy.html  \n",
       "1  http://www.sci-news.com/privacy-policy.html  \n",
       "2  http://www.sci-news.com/privacy-policy.html  \n",
       "3  http://www.sci-news.com/privacy-policy.html  \n",
       "4  http://www.sci-news.com/privacy-policy.html  "
      ]
     },
     "execution_count": 48,
     "metadata": {},
     "output_type": "execute_result"
    }
   ],
   "source": [
    "annotations.head()"
   ]
  },
  {
   "cell_type": "code",
   "execution_count": 49,
   "metadata": {
    "collapsed": true
   },
   "outputs": [],
   "source": [
    "segments = pd.merge(annotations,segments,on=['Policy UID','segment_id'],how='outer')"
   ]
  },
  {
   "cell_type": "code",
   "execution_count": 50,
   "metadata": {
    "collapsed": true
   },
   "outputs": [],
   "source": [
    "segments = pd.merge(policies,segments,on='Policy UID',how='inner')"
   ]
  },
  {
   "cell_type": "code",
   "execution_count": 51,
   "metadata": {
    "collapsed": true
   },
   "outputs": [],
   "source": [
    "segments = segments.drop(['other', 'policy_change',\n",
    "       'first_party_collection_use', 'third_party_sharing_collection',\n",
    "       'do_not_track', 'user_choice_control',\n",
    "       'international_specific_audiences', 'data_security', 'data_retention',\n",
    "       'user_access_edit_deletion', 'batch_id', 'attributes_value_pairs'],\n",
    "             axis=1)"
   ]
  },
  {
   "cell_type": "code",
   "execution_count": 52,
   "metadata": {
    "collapsed": true
   },
   "outputs": [],
   "source": [
    "segments = segments[segments['category_name']=='Data Security']"
   ]
  },
  {
   "cell_type": "code",
   "execution_count": 53,
   "metadata": {
    "collapsed": true
   },
   "outputs": [],
   "source": [
    "#Apply same workflow as above to break down to list of words\n",
    "#segments.iloc[0]['segments'].apply(text_process_policy)\n",
    "segments['segments'] = segments['segments'].apply(text_process_policy)\n",
    "words = ' '.join(list(segments['segments'])).split()"
   ]
  },
  {
   "cell_type": "code",
   "execution_count": 83,
   "metadata": {},
   "outputs": [
    {
     "data": {
      "text/html": [
       "<div>\n",
       "<style>\n",
       "    .dataframe thead tr:only-child th {\n",
       "        text-align: right;\n",
       "    }\n",
       "\n",
       "    .dataframe thead th {\n",
       "        text-align: left;\n",
       "    }\n",
       "\n",
       "    .dataframe tbody tr th {\n",
       "        vertical-align: top;\n",
       "    }\n",
       "</style>\n",
       "<table border=\"1\" class=\"dataframe\">\n",
       "  <thead>\n",
       "    <tr style=\"text-align: right;\">\n",
       "      <th></th>\n",
       "      <th>Policy UID</th>\n",
       "      <th>annotation_id</th>\n",
       "      <th>batch_id</th>\n",
       "      <th>annotator_id</th>\n",
       "      <th>segment_id</th>\n",
       "      <th>category_name</th>\n",
       "      <th>attributes_value_pairs</th>\n",
       "      <th>date</th>\n",
       "      <th>policy_url</th>\n",
       "      <th>segments</th>\n",
       "    </tr>\n",
       "  </thead>\n",
       "  <tbody>\n",
       "    <tr>\n",
       "      <th>0</th>\n",
       "      <td>1017</td>\n",
       "      <td>20137</td>\n",
       "      <td>test_category_labeling_highlight_fordham_aaaaa</td>\n",
       "      <td>121</td>\n",
       "      <td>0</td>\n",
       "      <td>Other</td>\n",
       "      <td>{\"Other Type\": {\"selectedText\": \"Sci-News.com ...</td>\n",
       "      <td>NaT</td>\n",
       "      <td>http://www.sci-news.com/privacy-policy.html</td>\n",
       "      <td>Privacy Policy &lt;br&gt; &lt;br&gt; Sci-News.com is commi...</td>\n",
       "    </tr>\n",
       "    <tr>\n",
       "      <th>1</th>\n",
       "      <td>1017</td>\n",
       "      <td>20589</td>\n",
       "      <td>test_category_labeling_highlight_fordham_ccccc</td>\n",
       "      <td>117</td>\n",
       "      <td>0</td>\n",
       "      <td>Other</td>\n",
       "      <td>{\"Other Type\": {\"selectedText\": \"Sci-News.com ...</td>\n",
       "      <td>NaT</td>\n",
       "      <td>http://www.sci-news.com/privacy-policy.html</td>\n",
       "      <td>Privacy Policy &lt;br&gt; &lt;br&gt; Sci-News.com is commi...</td>\n",
       "    </tr>\n",
       "    <tr>\n",
       "      <th>2</th>\n",
       "      <td>1017</td>\n",
       "      <td>20233</td>\n",
       "      <td>test_category_labeling_highlight_fordham_ddddd</td>\n",
       "      <td>118</td>\n",
       "      <td>0</td>\n",
       "      <td>Other</td>\n",
       "      <td>{\"Other Type\": {\"selectedText\": \"Sci-News.com ...</td>\n",
       "      <td>NaT</td>\n",
       "      <td>http://www.sci-news.com/privacy-policy.html</td>\n",
       "      <td>Privacy Policy &lt;br&gt; &lt;br&gt; Sci-News.com is commi...</td>\n",
       "    </tr>\n",
       "    <tr>\n",
       "      <th>3</th>\n",
       "      <td>1017</td>\n",
       "      <td>20234</td>\n",
       "      <td>test_category_labeling_highlight_fordham_ddddd</td>\n",
       "      <td>118</td>\n",
       "      <td>0</td>\n",
       "      <td>Policy Change</td>\n",
       "      <td>{\"Change Type\": {\"selectedText\": \"Please note ...</td>\n",
       "      <td>NaT</td>\n",
       "      <td>http://www.sci-news.com/privacy-policy.html</td>\n",
       "      <td>Privacy Policy &lt;br&gt; &lt;br&gt; Sci-News.com is commi...</td>\n",
       "    </tr>\n",
       "    <tr>\n",
       "      <th>4</th>\n",
       "      <td>1017</td>\n",
       "      <td>20324</td>\n",
       "      <td>test_category_labeling_highlight_fordham_aaaaa</td>\n",
       "      <td>121</td>\n",
       "      <td>1</td>\n",
       "      <td>First Party Collection/Use</td>\n",
       "      <td>{\"Collection Mode\": {\"selectedText\": \"nformati...</td>\n",
       "      <td>NaT</td>\n",
       "      <td>http://www.sci-news.com/privacy-policy.html</td>\n",
       "      <td>Information that Sci-News.com May Collect Onli...</td>\n",
       "    </tr>\n",
       "  </tbody>\n",
       "</table>\n",
       "</div>"
      ],
      "text/plain": [
       "   Policy UID  annotation_id                                        batch_id  \\\n",
       "0        1017          20137  test_category_labeling_highlight_fordham_aaaaa   \n",
       "1        1017          20589  test_category_labeling_highlight_fordham_ccccc   \n",
       "2        1017          20233  test_category_labeling_highlight_fordham_ddddd   \n",
       "3        1017          20234  test_category_labeling_highlight_fordham_ddddd   \n",
       "4        1017          20324  test_category_labeling_highlight_fordham_aaaaa   \n",
       "\n",
       "   annotator_id  segment_id               category_name  \\\n",
       "0           121           0                       Other   \n",
       "1           117           0                       Other   \n",
       "2           118           0                       Other   \n",
       "3           118           0               Policy Change   \n",
       "4           121           1  First Party Collection/Use   \n",
       "\n",
       "                              attributes_value_pairs date  \\\n",
       "0  {\"Other Type\": {\"selectedText\": \"Sci-News.com ...  NaT   \n",
       "1  {\"Other Type\": {\"selectedText\": \"Sci-News.com ...  NaT   \n",
       "2  {\"Other Type\": {\"selectedText\": \"Sci-News.com ...  NaT   \n",
       "3  {\"Change Type\": {\"selectedText\": \"Please note ...  NaT   \n",
       "4  {\"Collection Mode\": {\"selectedText\": \"nformati...  NaT   \n",
       "\n",
       "                                    policy_url  \\\n",
       "0  http://www.sci-news.com/privacy-policy.html   \n",
       "1  http://www.sci-news.com/privacy-policy.html   \n",
       "2  http://www.sci-news.com/privacy-policy.html   \n",
       "3  http://www.sci-news.com/privacy-policy.html   \n",
       "4  http://www.sci-news.com/privacy-policy.html   \n",
       "\n",
       "                                            segments  \n",
       "0  Privacy Policy <br> <br> Sci-News.com is commi...  \n",
       "1  Privacy Policy <br> <br> Sci-News.com is commi...  \n",
       "2  Privacy Policy <br> <br> Sci-News.com is commi...  \n",
       "3  Privacy Policy <br> <br> Sci-News.com is commi...  \n",
       "4  Information that Sci-News.com May Collect Onli...  "
      ]
     },
     "execution_count": 83,
     "metadata": {},
     "output_type": "execute_result"
    }
   ],
   "source": [
    "segments.head()"
   ]
  },
  {
   "cell_type": "code",
   "execution_count": 54,
   "metadata": {
    "collapsed": true
   },
   "outputs": [],
   "source": [
    "f2 = FreqDist(words)"
   ]
  },
  {
   "cell_type": "code",
   "execution_count": 55,
   "metadata": {
    "collapsed": true
   },
   "outputs": [],
   "source": [
    "df2 = pd.DataFrame(f2.most_common(100),columns=['Word','Frequency']).set_index('Word')"
   ]
  },
  {
   "cell_type": "code",
   "execution_count": 57,
   "metadata": {
    "scrolled": false
   },
   "outputs": [
    {
     "data": {
      "image/png": "[encoded data removed]",
      "text/plain": [
       "<matplotlib.figure.Figure at 0x10e9ff9e8>"
      ]
     },
     "metadata": {},
     "output_type": "display_data"
    }
   ],
   "source": [
    "#Word frequency stuff\n",
    "sns.set_style('whitegrid')\n",
    "sns.set_context('talk')\n",
    "df2.iloc[:10].plot.barh(figsize=(6,10),color='red')\n",
    "plt.title('Top 10 Privacy Policy Terms in Data Security Clauses')\n",
    "plt.xlabel('')\n",
    "plt.ylabel('')\n",
    "plt.savefig('../figures/top10terms_data_security.png')"
   ]
  },
  {
   "cell_type": "markdown",
   "metadata": {
    "collapsed": true
   },
   "source": [
    "## What do counts of different policy types look like across dataset?"
   ]
  },
  {
   "cell_type": "code",
   "execution_count": 16,
   "metadata": {},
   "outputs": [
    {
     "data": {
      "text/html": [
       "<div>\n",
       "<style>\n",
       "    .dataframe thead tr:only-child th {\n",
       "        text-align: right;\n",
       "    }\n",
       "\n",
       "    .dataframe thead th {\n",
       "        text-align: left;\n",
       "    }\n",
       "\n",
       "    .dataframe tbody tr th {\n",
       "        vertical-align: top;\n",
       "    }\n",
       "</style>\n",
       "<table border=\"1\" class=\"dataframe\">\n",
       "  <thead>\n",
       "    <tr style=\"text-align: right;\">\n",
       "      <th></th>\n",
       "      <th>other</th>\n",
       "      <th>policy_change</th>\n",
       "      <th>first_party_collection_use</th>\n",
       "      <th>third_party_sharing_collection</th>\n",
       "      <th>user_choice_control</th>\n",
       "      <th>do_not_track</th>\n",
       "      <th>international_specific_audiences</th>\n",
       "      <th>data_security</th>\n",
       "      <th>data_retention</th>\n",
       "      <th>user_access_edit_deletion</th>\n",
       "    </tr>\n",
       "    <tr>\n",
       "      <th>Policy UID</th>\n",
       "      <th></th>\n",
       "      <th></th>\n",
       "      <th></th>\n",
       "      <th></th>\n",
       "      <th></th>\n",
       "      <th></th>\n",
       "      <th></th>\n",
       "      <th></th>\n",
       "      <th></th>\n",
       "      <th></th>\n",
       "    </tr>\n",
       "  </thead>\n",
       "  <tbody>\n",
       "    <tr>\n",
       "      <th>20</th>\n",
       "      <td>3</td>\n",
       "      <td>1</td>\n",
       "      <td>8</td>\n",
       "      <td>10</td>\n",
       "      <td>5</td>\n",
       "      <td>1</td>\n",
       "      <td>4</td>\n",
       "      <td>1</td>\n",
       "      <td>1</td>\n",
       "      <td>2</td>\n",
       "    </tr>\n",
       "    <tr>\n",
       "      <th>21</th>\n",
       "      <td>7</td>\n",
       "      <td>1</td>\n",
       "      <td>7</td>\n",
       "      <td>9</td>\n",
       "      <td>6</td>\n",
       "      <td>0</td>\n",
       "      <td>4</td>\n",
       "      <td>1</td>\n",
       "      <td>0</td>\n",
       "      <td>1</td>\n",
       "    </tr>\n",
       "    <tr>\n",
       "      <th>26</th>\n",
       "      <td>18</td>\n",
       "      <td>1</td>\n",
       "      <td>17</td>\n",
       "      <td>18</td>\n",
       "      <td>8</td>\n",
       "      <td>0</td>\n",
       "      <td>3</td>\n",
       "      <td>1</td>\n",
       "      <td>0</td>\n",
       "      <td>2</td>\n",
       "    </tr>\n",
       "    <tr>\n",
       "      <th>32</th>\n",
       "      <td>72</td>\n",
       "      <td>12</td>\n",
       "      <td>120</td>\n",
       "      <td>72</td>\n",
       "      <td>36</td>\n",
       "      <td>0</td>\n",
       "      <td>12</td>\n",
       "      <td>12</td>\n",
       "      <td>12</td>\n",
       "      <td>0</td>\n",
       "    </tr>\n",
       "    <tr>\n",
       "      <th>33</th>\n",
       "      <td>135</td>\n",
       "      <td>18</td>\n",
       "      <td>225</td>\n",
       "      <td>72</td>\n",
       "      <td>45</td>\n",
       "      <td>0</td>\n",
       "      <td>63</td>\n",
       "      <td>9</td>\n",
       "      <td>9</td>\n",
       "      <td>9</td>\n",
       "    </tr>\n",
       "  </tbody>\n",
       "</table>\n",
       "</div>"
      ],
      "text/plain": [
       "            other  policy_change  first_party_collection_use  \\\n",
       "Policy UID                                                     \n",
       "20              3              1                           8   \n",
       "21              7              1                           7   \n",
       "26             18              1                          17   \n",
       "32             72             12                         120   \n",
       "33            135             18                         225   \n",
       "\n",
       "            third_party_sharing_collection  user_choice_control  do_not_track  \\\n",
       "Policy UID                                                                      \n",
       "20                                      10                    5             1   \n",
       "21                                       9                    6             0   \n",
       "26                                      18                    8             0   \n",
       "32                                      72                   36             0   \n",
       "33                                      72                   45             0   \n",
       "\n",
       "            international_specific_audiences  data_security  data_retention  \\\n",
       "Policy UID                                                                    \n",
       "20                                         4              1               1   \n",
       "21                                         4              1               0   \n",
       "26                                         3              1               0   \n",
       "32                                        12             12              12   \n",
       "33                                        63              9               9   \n",
       "\n",
       "            user_access_edit_deletion  \n",
       "Policy UID                             \n",
       "20                                  2  \n",
       "21                                  1  \n",
       "26                                  2  \n",
       "32                                  0  \n",
       "33                                  9  "
      ]
     },
     "execution_count": 16,
     "metadata": {},
     "output_type": "execute_result"
    }
   ],
   "source": [
    "flagged_segments = segment_cats.groupby(['Policy UID']).sum().drop(['index','segment_id'],axis=1)\n",
    "flagged_segments.head()"
   ]
  },
  {
   "cell_type": "code",
   "execution_count": 17,
   "metadata": {},
   "outputs": [
    {
     "name": "stderr",
     "output_type": "stream",
     "text": [
      "/Users/peterostendorp/anaconda/lib/python3.6/site-packages/seaborn/categorical.py:2171: UserWarning: The boxplot API has been changed. Attempting to adjust your arguments for the new API (which might not work). Please update your code. See the version 0.6 release notes for more info.\n",
      "  warnings.warn(msg, UserWarning)\n"
     ]
    },
    {
     "data": {
      "text/plain": [
       "(0, 25)"
      ]
     },
     "execution_count": 17,
     "metadata": {},
     "output_type": "execute_result"
    },
    {
     "data": {
      "image/png": "[encoded data removed]",
      "text/plain": [
       "<matplotlib.figure.Figure at 0x10e7f9eb8>"
      ]
     },
     "metadata": {},
     "output_type": "display_data"
    }
   ],
   "source": [
    "plt.figure(figsize=(16,4))\n",
    "sns.boxplot(flagged_segments,orient = 'h')\n",
    "plt.xlim(0,25)"
   ]
  },
  {
   "cell_type": "code",
   "execution_count": null,
   "metadata": {
    "collapsed": true
   },
   "outputs": [],
   "source": []
  }
 ],
 "metadata": {
  "kernelspec": {
   "display_name": "Python 3",
   "language": "python",
   "name": "python3"
  },
  "language_info": {
   "codemirror_mode": {
    "name": "ipython",
    "version": 3
   },
   "file_extension": ".py",
   "mimetype": "text/x-python",
   "name": "python",
   "nbconvert_exporter": "python",
   "pygments_lexer": "ipython3",
   "version": "3.6.1"
  }
 },
 "nbformat": 4,
 "nbformat_minor": 2
}
